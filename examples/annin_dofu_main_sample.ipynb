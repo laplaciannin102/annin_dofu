{
 "cells": [
  {
   "cell_type": "markdown",
   "metadata": {},
   "source": [
    "# Load modules"
   ]
  },
  {
   "cell_type": "code",
   "execution_count": null,
   "metadata": {
    "ExecuteTime": {
     "end_time": "2021-10-12T17:17:06.608596Z",
     "start_time": "2021-10-12T17:17:06.156246Z"
    }
   },
   "outputs": [],
   "source": [
    "import sys, os\n",
    "import gc\n",
    "import time\n",
    "import random\n",
    "import scipy\n",
    "import numpy as np\n",
    "import pandas as pd\n",
    "import matplotlib.pyplot as plt"
   ]
  },
  {
   "cell_type": "code",
   "execution_count": null,
   "metadata": {
    "ExecuteTime": {
     "end_time": "2021-10-12T17:17:07.060453Z",
     "start_time": "2021-10-12T17:17:06.610085Z"
    }
   },
   "outputs": [],
   "source": [
    "# original modules\n",
    "from annin_dofu import calc, matrix, parallel, stats, utils"
   ]
  },
  {
   "cell_type": "markdown",
   "metadata": {},
   "source": [
    "# Configuration"
   ]
  },
  {
   "cell_type": "markdown",
   "metadata": {},
   "source": [
    "## random seed"
   ]
  },
  {
   "cell_type": "code",
   "execution_count": null,
   "metadata": {
    "ExecuteTime": {
     "end_time": "2021-10-12T17:17:07.064916Z",
     "start_time": "2021-10-12T17:17:07.061940Z"
    }
   },
   "outputs": [],
   "source": [
    "np.random.seed(57)\n",
    "random.seed(57)"
   ]
  },
  {
   "cell_type": "markdown",
   "metadata": {},
   "source": [
    "## warningの非表示"
   ]
  },
  {
   "cell_type": "code",
   "execution_count": null,
   "metadata": {
    "ExecuteTime": {
     "end_time": "2021-10-12T17:17:07.073348Z",
     "start_time": "2021-10-12T17:17:07.066405Z"
    }
   },
   "outputs": [],
   "source": [
    "# warningの非表示\n",
    "import warnings\n",
    "warnings.filterwarnings('ignore')"
   ]
  },
  {
   "cell_type": "markdown",
   "metadata": {},
   "source": [
    "## 左寄せにするマジックコマンド"
   ]
  },
  {
   "cell_type": "code",
   "execution_count": null,
   "metadata": {
    "ExecuteTime": {
     "end_time": "2021-10-12T17:17:07.080787Z",
     "start_time": "2021-10-12T17:17:07.074837Z"
    }
   },
   "outputs": [],
   "source": [
    "%%html\n",
    "<style>\n",
    "    table{float:left}\n",
    "    .MathJax{float: left;}\n",
    "</style>"
   ]
  },
  {
   "cell_type": "markdown",
   "metadata": {},
   "source": [
    "## データフレームの表示設定"
   ]
  },
  {
   "cell_type": "code",
   "execution_count": null,
   "metadata": {
    "ExecuteTime": {
     "end_time": "2021-10-12T17:17:07.085253Z",
     "start_time": "2021-10-12T17:17:07.082276Z"
    }
   },
   "outputs": [],
   "source": [
    "# データフレームの表示行数, 表示列数設定.\n",
    "pd.set_option('display.max_columns', 100)\n",
    "pd.set_option('display.max_rows', 200)\n",
    "\n",
    "# カラム内の文字数設定. デフォルトは50.\n",
    "pd.set_option('display.max_colwidth', 100)"
   ]
  },
  {
   "cell_type": "markdown",
   "metadata": {},
   "source": [
    "## カレントディレクトリの設定"
   ]
  },
  {
   "cell_type": "code",
   "execution_count": null,
   "metadata": {
    "ExecuteTime": {
     "end_time": "2021-10-12T17:17:07.090212Z",
     "start_time": "2021-10-12T17:17:07.087236Z"
    }
   },
   "outputs": [],
   "source": [
    "# 念の為カレントディレクトリをファイルの場所に変更しておく\n",
    "os.chdir(os.getcwd())"
   ]
  },
  {
   "cell_type": "markdown",
   "metadata": {},
   "source": [
    "## 経過時間取得のための開始時間保存"
   ]
  },
  {
   "cell_type": "code",
   "execution_count": null,
   "metadata": {
    "ExecuteTime": {
     "end_time": "2021-10-12T17:17:07.094676Z",
     "start_time": "2021-10-12T17:17:07.091700Z"
    }
   },
   "outputs": [],
   "source": [
    "start_time = time.time()"
   ]
  },
  {
   "cell_type": "markdown",
   "metadata": {},
   "source": [
    "# utils sample"
   ]
  },
  {
   "cell_type": "markdown",
   "metadata": {},
   "source": [
    "## list_segments"
   ]
  },
  {
   "cell_type": "code",
   "execution_count": null,
   "metadata": {
    "ExecuteTime": {
     "end_time": "2021-10-12T17:17:07.100133Z",
     "start_time": "2021-10-12T17:17:07.097156Z"
    }
   },
   "outputs": [],
   "source": [
    "ls = utils.list_segments"
   ]
  },
  {
   "cell_type": "code",
   "execution_count": null,
   "metadata": {
    "ExecuteTime": {
     "end_time": "2021-10-12T17:17:07.108069Z",
     "start_time": "2021-10-12T17:17:07.102117Z"
    }
   },
   "outputs": [],
   "source": [
    "ls()"
   ]
  },
  {
   "cell_type": "code",
   "execution_count": null,
   "metadata": {
    "ExecuteTime": {
     "end_time": "2021-10-12T17:17:07.118981Z",
     "start_time": "2021-10-12T17:17:07.110052Z"
    }
   },
   "outputs": [],
   "source": [
    "ls(only_fname=True)"
   ]
  },
  {
   "cell_type": "code",
   "execution_count": null,
   "metadata": {},
   "outputs": [],
   "source": []
  },
  {
   "cell_type": "markdown",
   "metadata": {},
   "source": [
    "## get_elapsed_time"
   ]
  },
  {
   "cell_type": "code",
   "execution_count": null,
   "metadata": {
    "ExecuteTime": {
     "end_time": "2021-10-12T17:17:10.124324Z",
     "start_time": "2021-10-12T17:17:07.120964Z"
    }
   },
   "outputs": [],
   "source": [
    "time.sleep(3)"
   ]
  },
  {
   "cell_type": "code",
   "execution_count": null,
   "metadata": {
    "ExecuteTime": {
     "end_time": "2021-10-12T17:17:10.131764Z",
     "start_time": "2021-10-12T17:17:10.125316Z"
    }
   },
   "outputs": [],
   "source": [
    "utils.get_elapsed_time(start_time)"
   ]
  },
  {
   "cell_type": "code",
   "execution_count": null,
   "metadata": {},
   "outputs": [],
   "source": []
  },
  {
   "cell_type": "markdown",
   "metadata": {},
   "source": [
    "# calc sample"
   ]
  },
  {
   "cell_type": "markdown",
   "metadata": {},
   "source": [
    "## pro_round"
   ]
  },
  {
   "cell_type": "code",
   "execution_count": null,
   "metadata": {
    "ExecuteTime": {
     "end_time": "2021-10-12T17:17:10.136724Z",
     "start_time": "2021-10-12T17:17:10.133252Z"
    }
   },
   "outputs": [],
   "source": [
    "a = 1.345\n",
    "b = 2.555"
   ]
  },
  {
   "cell_type": "code",
   "execution_count": null,
   "metadata": {
    "ExecuteTime": {
     "end_time": "2021-10-12T17:17:10.144165Z",
     "start_time": "2021-10-12T17:17:10.138213Z"
    }
   },
   "outputs": [],
   "source": [
    "calc.pro_round(a), calc.pro_round(a, 1)"
   ]
  },
  {
   "cell_type": "code",
   "execution_count": null,
   "metadata": {
    "ExecuteTime": {
     "end_time": "2021-10-12T17:17:10.151605Z",
     "start_time": "2021-10-12T17:17:10.146645Z"
    }
   },
   "outputs": [],
   "source": [
    "calc.pro_round(b), calc.pro_round(b, 1)"
   ]
  },
  {
   "cell_type": "markdown",
   "metadata": {},
   "source": [
    "## isin_section"
   ]
  },
  {
   "cell_type": "code",
   "execution_count": null,
   "metadata": {
    "ExecuteTime": {
     "end_time": "2021-10-12T17:17:10.159540Z",
     "start_time": "2021-10-12T17:17:10.154580Z"
    }
   },
   "outputs": [],
   "source": [
    "calc.isin_section(5, [2, 10])"
   ]
  },
  {
   "cell_type": "code",
   "execution_count": null,
   "metadata": {
    "ExecuteTime": {
     "end_time": "2021-10-12T17:17:10.167972Z",
     "start_time": "2021-10-12T17:17:10.162516Z"
    }
   },
   "outputs": [],
   "source": [
    "calc.isin_section(15, [2, 10])"
   ]
  },
  {
   "cell_type": "markdown",
   "metadata": {},
   "source": [
    "## calc_integrate"
   ]
  },
  {
   "cell_type": "code",
   "execution_count": null,
   "metadata": {
    "ExecuteTime": {
     "end_time": "2021-10-12T17:17:10.196244Z",
     "start_time": "2021-10-12T17:17:10.169957Z"
    },
    "scrolled": true
   },
   "outputs": [],
   "source": [
    "# integrate sample\n",
    "# square func\n",
    "f = (lambda x: x**2)\n",
    "a = -1\n",
    "b = 2\n",
    "\n",
    "print('*' * 80)\n",
    "print('func: {}, a: {}, b: {}'.format('square func', '-1', '2'))\n",
    "print('*' * 80)\n",
    "\n",
    "for mode in ['quad', 'trapz', 'simps']:\n",
    "    area = calc.calc_integrate(f, a, b, mode=mode)\n",
    "    print('mode: {}'.format(mode))\n",
    "    print('area: {}'.format(area))\n",
    "    print('*' * 80)\n",
    "\n",
    "print()"
   ]
  },
  {
   "cell_type": "markdown",
   "metadata": {},
   "source": [
    "# matrix"
   ]
  },
  {
   "cell_type": "markdown",
   "metadata": {},
   "source": [
    "## get_meshgrid_ndarray"
   ]
  },
  {
   "cell_type": "code",
   "execution_count": null,
   "metadata": {
    "ExecuteTime": {
     "end_time": "2021-10-12T17:17:43.889710Z",
     "start_time": "2021-10-12T17:17:43.884749Z"
    }
   },
   "outputs": [],
   "source": [
    "x_arr = matrix.get_meshgrid_ndarray(3, [1, 2, 3], [1, 3])\n",
    "print(x_arr)"
   ]
  },
  {
   "cell_type": "markdown",
   "metadata": {},
   "source": [
    "# stats sample"
   ]
  },
  {
   "cell_type": "markdown",
   "metadata": {},
   "source": [
    "## make sample data"
   ]
  },
  {
   "cell_type": "code",
   "execution_count": null,
   "metadata": {
    "ExecuteTime": {
     "end_time": "2021-10-11T22:24:07.201261Z",
     "start_time": "2021-10-11T22:24:07.185389Z"
    }
   },
   "outputs": [],
   "source": [
    "n_samples = 100\n",
    "x_arr = np.random.normal(0, 10, n_samples)\n",
    "x_arr.shape"
   ]
  },
  {
   "cell_type": "code",
   "execution_count": null,
   "metadata": {
    "ExecuteTime": {
     "end_time": "2021-10-11T22:24:07.219117Z",
     "start_time": "2021-10-11T22:24:07.203245Z"
    }
   },
   "outputs": [],
   "source": [
    "x_arr[:5]"
   ]
  },
  {
   "cell_type": "markdown",
   "metadata": {},
   "source": [
    "## sturges_rule"
   ]
  },
  {
   "cell_type": "code",
   "execution_count": null,
   "metadata": {
    "ExecuteTime": {
     "end_time": "2021-10-11T22:24:07.228540Z",
     "start_time": "2021-10-11T22:24:07.220605Z"
    }
   },
   "outputs": [],
   "source": [
    "n_bins = stats.sturges_rule(n_samples)\n",
    "n_bins"
   ]
  },
  {
   "cell_type": "code",
   "execution_count": null,
   "metadata": {
    "ExecuteTime": {
     "end_time": "2021-10-11T22:24:07.370396Z",
     "start_time": "2021-10-11T22:24:07.230028Z"
    }
   },
   "outputs": [],
   "source": [
    "plt.hist(x_arr, bins=n_bins)\n",
    "plt.grid()"
   ]
  },
  {
   "cell_type": "markdown",
   "metadata": {},
   "source": [
    "### confidence_interval"
   ]
  },
  {
   "cell_type": "code",
   "execution_count": null,
   "metadata": {
    "ExecuteTime": {
     "end_time": "2021-10-11T22:24:07.375853Z",
     "start_time": "2021-10-11T22:24:07.371388Z"
    }
   },
   "outputs": [],
   "source": [
    "ci95 = stats.confidence_interval(x_arr, alpha=0.95)\n",
    "ci95"
   ]
  },
  {
   "cell_type": "code",
   "execution_count": null,
   "metadata": {
    "ExecuteTime": {
     "end_time": "2021-10-11T22:24:07.395196Z",
     "start_time": "2021-10-11T22:24:07.377340Z"
    }
   },
   "outputs": [],
   "source": [
    "ci50 = stats.confidence_interval(x_arr, alpha=0.50)\n",
    "ci50"
   ]
  },
  {
   "cell_type": "code",
   "execution_count": null,
   "metadata": {
    "ExecuteTime": {
     "end_time": "2021-10-11T22:24:07.508781Z",
     "start_time": "2021-10-11T22:24:07.396684Z"
    }
   },
   "outputs": [],
   "source": [
    "plt.hist(x_arr, bins=n_bins)\n",
    "plt.vlines(ci50, -100, 200, color='orange')\n",
    "plt.vlines(ci95, -100, 200, color='red')\n",
    "plt.xlim(-30, 30)\n",
    "plt.ylim(0, 30)\n",
    "plt.grid()"
   ]
  },
  {
   "cell_type": "code",
   "execution_count": null,
   "metadata": {},
   "outputs": [],
   "source": []
  },
  {
   "cell_type": "markdown",
   "metadata": {},
   "source": [
    "# parallel sample"
   ]
  },
  {
   "cell_type": "markdown",
   "metadata": {},
   "source": [
    "## multiprocess_func"
   ]
  },
  {
   "cell_type": "code",
   "execution_count": null,
   "metadata": {
    "ExecuteTime": {
     "end_time": "2021-10-11T22:24:12.793159Z",
     "start_time": "2021-10-11T22:24:07.512252Z"
    }
   },
   "outputs": [],
   "source": [
    "def func0(x, y):\n",
    "    import time\n",
    "    time.sleep(5)\n",
    "    return [x+y, x-y]\n",
    "\n",
    "args_list0 = [\n",
    "    [1, 1],\n",
    "    [2, 2],\n",
    "    [3, -1],\n",
    "    [4, -2]\n",
    "]\n",
    "\n",
    "ret0 = parallel.multiprocess_func(\n",
    "    func = func0,\n",
    "    args_list = args_list0,\n",
    "    processes = 4\n",
    ")\n",
    "print('list of Returns:', ret0)\n",
    "# list of Returns: [[2, 0], [4, 0], [2, 4], [2, 6]]"
   ]
  },
  {
   "cell_type": "markdown",
   "metadata": {},
   "source": [
    "## parallel_func"
   ]
  },
  {
   "cell_type": "code",
   "execution_count": null,
   "metadata": {
    "ExecuteTime": {
     "end_time": "2021-10-11T22:24:23.292057Z",
     "start_time": "2021-10-11T22:24:12.794647Z"
    }
   },
   "outputs": [],
   "source": [
    "def func0(x, y):\n",
    "    import time\n",
    "    time.sleep(5)\n",
    "    return [x+y, x-y]\n",
    "\n",
    "args_list0 = [\n",
    "    [1, 1],\n",
    "    [2, 2],\n",
    "    [3, -1],\n",
    "    [4, -2]\n",
    "]\n",
    "\n",
    "args_list1 = [\n",
    "    {'x': 1, 'y': 1},\n",
    "    {'x': 2, 'y': 2},\n",
    "    {'x': 3, 'y': -1},\n",
    "    {'x': 4, 'y': -2}\n",
    "]\n",
    "\n",
    "ret0 = parallel.parallel_func(func=func0, args_list=args_list0, args_type='list', verbose=1)\n",
    "print('type of args is list:', ret0)\n",
    "# type of args is list: [[2, 0], [4, 0], [2, 4], [2, 6]]\n",
    "\n",
    "ret1 = parallel.parallel_func(func=func0, args_list=args_list1, args_type='dict', verbose=2, prefer='processes')\n",
    "print('type of args is dict:', ret1)\n",
    "# type of args is dict: [[2, 0], [4, 0], [2, 4], [2, 6]]"
   ]
  },
  {
   "cell_type": "code",
   "execution_count": null,
   "metadata": {},
   "outputs": [],
   "source": []
  },
  {
   "cell_type": "markdown",
   "metadata": {},
   "source": [
    "# Check"
   ]
  },
  {
   "cell_type": "markdown",
   "metadata": {},
   "source": [
    "## get elapsed time"
   ]
  },
  {
   "cell_type": "code",
   "execution_count": null,
   "metadata": {
    "ExecuteTime": {
     "end_time": "2021-10-11T22:24:23.301481Z",
     "start_time": "2021-10-11T22:24:23.295033Z"
    }
   },
   "outputs": [],
   "source": [
    "utils.get_elapsed_time(start_time)"
   ]
  },
  {
   "cell_type": "code",
   "execution_count": null,
   "metadata": {},
   "outputs": [],
   "source": []
  }
 ],
 "metadata": {
  "kernelspec": {
   "display_name": "Python 3",
   "language": "python",
   "name": "python3"
  },
  "language_info": {
   "codemirror_mode": {
    "name": "ipython",
    "version": 3
   },
   "file_extension": ".py",
   "mimetype": "text/x-python",
   "name": "python",
   "nbconvert_exporter": "python",
   "pygments_lexer": "ipython3",
   "version": "3.8.8"
  },
  "toc": {
   "base_numbering": 1,
   "nav_menu": {},
   "number_sections": true,
   "sideBar": true,
   "skip_h1_title": false,
   "title_cell": "Table of Contents",
   "title_sidebar": "Contents",
   "toc_cell": false,
   "toc_position": {
    "height": "calc(100% - 180px)",
    "left": "10px",
    "top": "150px",
    "width": "279.263px"
   },
   "toc_section_display": true,
   "toc_window_display": true
  }
 },
 "nbformat": 4,
 "nbformat_minor": 4
}
