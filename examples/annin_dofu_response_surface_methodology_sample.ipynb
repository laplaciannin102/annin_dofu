{
 "cells": [
  {
   "cell_type": "markdown",
   "metadata": {},
   "source": [
    "# Load modules"
   ]
  },
  {
   "cell_type": "code",
   "execution_count": null,
   "metadata": {
    "ExecuteTime": {
     "end_time": "2021-10-12T17:19:33.644233Z",
     "start_time": "2021-10-12T17:19:33.141785Z"
    }
   },
   "outputs": [],
   "source": [
    "import sys, os\n",
    "import gc\n",
    "import time\n",
    "import random\n",
    "import scipy\n",
    "import numpy as np\n",
    "import pandas as pd\n",
    "import matplotlib.pyplot as plt"
   ]
  },
  {
   "cell_type": "code",
   "execution_count": null,
   "metadata": {
    "ExecuteTime": {
     "end_time": "2021-10-12T17:47:53.110712Z",
     "start_time": "2021-10-12T17:47:53.107735Z"
    }
   },
   "outputs": [],
   "source": [
    "# scikit-learn\n",
    "from sklearn.model_selection import KFold, GridSearchCV\n",
    "from sklearn.metrics import mean_absolute_error as mae\n",
    "\n",
    "# scipy\n",
    "# from scipy.optimize import minimize, BFGS, LinearConstraint\n",
    "from scipy.optimize import minimize, LinearConstraint"
   ]
  },
  {
   "cell_type": "code",
   "execution_count": null,
   "metadata": {
    "ExecuteTime": {
     "end_time": "2021-10-12T17:19:34.224056Z",
     "start_time": "2021-10-12T17:19:33.979032Z"
    }
   },
   "outputs": [],
   "source": [
    "# original modules\n",
    "from annin_dofu import calc, matrix, parallel, stats, utils\n",
    "\n",
    "# approximation系クラスのimport\n",
    "from annin_dofu.response_surface_methodology import Approximation2dFunction as a2f\n",
    "from annin_dofu.response_surface_methodology import ApproximationRBFInterpolation as ari"
   ]
  },
  {
   "cell_type": "markdown",
   "metadata": {},
   "source": [
    "# Configuration"
   ]
  },
  {
   "cell_type": "markdown",
   "metadata": {},
   "source": [
    "## random seed"
   ]
  },
  {
   "cell_type": "code",
   "execution_count": null,
   "metadata": {
    "ExecuteTime": {
     "end_time": "2021-10-12T17:19:34.228520Z",
     "start_time": "2021-10-12T17:19:34.225544Z"
    }
   },
   "outputs": [],
   "source": [
    "np.random.seed(57)\n",
    "random.seed(57)"
   ]
  },
  {
   "cell_type": "markdown",
   "metadata": {},
   "source": [
    "## warningの非表示"
   ]
  },
  {
   "cell_type": "code",
   "execution_count": null,
   "metadata": {
    "ExecuteTime": {
     "end_time": "2021-10-12T17:19:34.236457Z",
     "start_time": "2021-10-12T17:19:34.230009Z"
    }
   },
   "outputs": [],
   "source": [
    "# warningの非表示\n",
    "import warnings\n",
    "warnings.filterwarnings('ignore')"
   ]
  },
  {
   "cell_type": "markdown",
   "metadata": {},
   "source": [
    "## 左寄せにするマジックコマンド"
   ]
  },
  {
   "cell_type": "code",
   "execution_count": null,
   "metadata": {
    "ExecuteTime": {
     "end_time": "2021-10-12T17:19:34.245384Z",
     "start_time": "2021-10-12T17:19:34.237944Z"
    }
   },
   "outputs": [],
   "source": [
    "%%html\n",
    "<style>\n",
    "    table{float:left}\n",
    "    .MathJax{float: left;}\n",
    "</style>"
   ]
  },
  {
   "cell_type": "markdown",
   "metadata": {},
   "source": [
    "## データフレームの表示設定"
   ]
  },
  {
   "cell_type": "code",
   "execution_count": null,
   "metadata": {
    "ExecuteTime": {
     "end_time": "2021-10-12T17:19:34.250344Z",
     "start_time": "2021-10-12T17:19:34.246873Z"
    }
   },
   "outputs": [],
   "source": [
    "# データフレームの表示行数, 表示列数設定.\n",
    "pd.set_option('display.max_columns', 100)\n",
    "pd.set_option('display.max_rows', 200)\n",
    "\n",
    "# カラム内の文字数設定. デフォルトは50.\n",
    "pd.set_option('display.max_colwidth', 100)"
   ]
  },
  {
   "cell_type": "markdown",
   "metadata": {},
   "source": [
    "## カレントディレクトリの設定"
   ]
  },
  {
   "cell_type": "code",
   "execution_count": null,
   "metadata": {
    "ExecuteTime": {
     "end_time": "2021-10-12T17:19:34.254808Z",
     "start_time": "2021-10-12T17:19:34.251832Z"
    }
   },
   "outputs": [],
   "source": [
    "# 念の為カレントディレクトリをファイルの場所に変更しておく\n",
    "os.chdir(os.getcwd())"
   ]
  },
  {
   "cell_type": "markdown",
   "metadata": {},
   "source": [
    "## 経過時間取得のための開始時間保存"
   ]
  },
  {
   "cell_type": "code",
   "execution_count": null,
   "metadata": {
    "ExecuteTime": {
     "end_time": "2021-10-12T17:19:34.260264Z",
     "start_time": "2021-10-12T17:19:34.257289Z"
    }
   },
   "outputs": [],
   "source": [
    "start_time = time.time()"
   ]
  },
  {
   "cell_type": "markdown",
   "metadata": {},
   "source": [
    "# Constants"
   ]
  },
  {
   "cell_type": "markdown",
   "metadata": {},
   "source": [
    "## 円周率"
   ]
  },
  {
   "cell_type": "code",
   "execution_count": null,
   "metadata": {
    "ExecuteTime": {
     "end_time": "2021-10-12T17:19:34.264728Z",
     "start_time": "2021-10-12T17:19:34.261753Z"
    }
   },
   "outputs": [],
   "source": [
    "# 円周率の定義\n",
    "pi = np.pi"
   ]
  },
  {
   "cell_type": "code",
   "execution_count": null,
   "metadata": {},
   "outputs": [],
   "source": []
  },
  {
   "cell_type": "markdown",
   "metadata": {},
   "source": [
    "# 1-dim sample\n",
    "\n",
    "- 1次元データのサンプル"
   ]
  },
  {
   "cell_type": "markdown",
   "metadata": {},
   "source": [
    "## make sample data"
   ]
  },
  {
   "cell_type": "markdown",
   "metadata": {},
   "source": [
    "### サンプルサイズ等の定義"
   ]
  },
  {
   "cell_type": "code",
   "execution_count": null,
   "metadata": {
    "ExecuteTime": {
     "end_time": "2021-10-12T17:19:34.268697Z",
     "start_time": "2021-10-12T17:19:34.265720Z"
    }
   },
   "outputs": [],
   "source": [
    "train_n_sample_grid1d = 200\n",
    "train_n_sample_grid1dlr = 50\n",
    "gaussian_noize_std1d = 0.1"
   ]
  },
  {
   "cell_type": "markdown",
   "metadata": {},
   "source": [
    "### データ作成"
   ]
  },
  {
   "cell_type": "code",
   "execution_count": null,
   "metadata": {
    "ExecuteTime": {
     "end_time": "2021-10-12T17:19:34.273656Z",
     "start_time": "2021-10-12T17:19:34.270681Z"
    }
   },
   "outputs": [],
   "source": [
    "def d1_func0(x):\n",
    "    return np.sin(2*x/pi)"
   ]
  },
  {
   "cell_type": "code",
   "execution_count": null,
   "metadata": {
    "ExecuteTime": {
     "end_time": "2021-10-12T17:19:34.279112Z",
     "start_time": "2021-10-12T17:19:34.275144Z"
    }
   },
   "outputs": [],
   "source": [
    "x_1d = np.linspace(-10, 10, num=train_n_sample_grid1d)\n",
    "x_1d_ = x_1d.reshape([1, train_n_sample_grid1d]).T\n",
    "sin_y_1d = d1_func0(x_1d)\n",
    "sin_y_1do = sin_y_1d + 2 * gaussian_noize_std1d\n",
    "sin_y_1du = sin_y_1d - 2 * gaussian_noize_std1d\n",
    "y_1d = np.random.normal(sin_y_1d, gaussian_noize_std1d, size=sin_y_1d.shape)"
   ]
  },
  {
   "cell_type": "code",
   "execution_count": null,
   "metadata": {
    "ExecuteTime": {
     "end_time": "2021-10-12T17:19:34.284568Z",
     "start_time": "2021-10-12T17:19:34.280600Z"
    }
   },
   "outputs": [],
   "source": [
    "x_1dl = np.linspace(-15, -10, num=train_n_sample_grid1dlr)[:-1]\n",
    "x_1dl_ = x_1dl.reshape([1, len(x_1dl)]).T\n",
    "sin_y_1dl = d1_func0(x_1dl)\n",
    "sin_y_1dlo = sin_y_1dl + 2 * gaussian_noize_std1d\n",
    "sin_y_1dlu = sin_y_1dl - 2 * gaussian_noize_std1d\n",
    "y_1dl = np.random.normal(sin_y_1dl, gaussian_noize_std1d, size=sin_y_1dl.shape)"
   ]
  },
  {
   "cell_type": "code",
   "execution_count": null,
   "metadata": {
    "ExecuteTime": {
     "end_time": "2021-10-12T17:19:34.291512Z",
     "start_time": "2021-10-12T17:19:34.286058Z"
    }
   },
   "outputs": [],
   "source": [
    "x_1dr = np.linspace(10, 15, num=train_n_sample_grid1dlr)[1:]\n",
    "x_1dr_ = x_1dr.reshape([1, len(x_1dr)]).T\n",
    "sin_y_1dr = d1_func0(x_1dr)\n",
    "sin_y_1dro = sin_y_1dr + 2 * gaussian_noize_std1d\n",
    "sin_y_1dru = sin_y_1dr - 2 * gaussian_noize_std1d\n",
    "y_1dr = np.random.normal(sin_y_1dr, gaussian_noize_std1d, size=sin_y_1dr.shape)"
   ]
  },
  {
   "cell_type": "code",
   "execution_count": null,
   "metadata": {
    "ExecuteTime": {
     "end_time": "2021-10-12T17:19:34.298952Z",
     "start_time": "2021-10-12T17:19:34.293497Z"
    }
   },
   "outputs": [],
   "source": [
    "all_x_1d = np.hstack([x_1dl, x_1d, x_1dr])\n",
    "all_x_1d_ = all_x_1d.reshape([1, train_n_sample_grid1d+2*train_n_sample_grid1dlr-2]).T\n",
    "all_y_1d = np.hstack([y_1dl, y_1d, y_1dr])\n",
    "all_sin_y_1d = d1_func0(all_x_1d)\n",
    "all_sin_y_1do = all_sin_y_1d + 2 * gaussian_noize_std1d\n",
    "all_sin_y_1du = all_sin_y_1d - 2 * gaussian_noize_std1d\n",
    "\n",
    "all_x_1d.shape, all_x_1d_.shape, all_y_1d.shape"
   ]
  },
  {
   "cell_type": "markdown",
   "metadata": {},
   "source": [
    "# 1-dim sample modeling"
   ]
  },
  {
   "cell_type": "markdown",
   "metadata": {},
   "source": [
    "## 2D function approximation"
   ]
  },
  {
   "cell_type": "code",
   "execution_count": null,
   "metadata": {
    "ExecuteTime": {
     "end_time": "2021-10-12T17:19:34.391257Z",
     "start_time": "2021-10-12T17:19:34.300936Z"
    }
   },
   "outputs": [],
   "source": [
    "a2f_reg1d = a2f()\n",
    "a2f_reg1d.fit(x_1d_, y_1d)\n",
    "a2f_pred1d = a2f_reg1d.predict(all_x_1d_)"
   ]
  },
  {
   "cell_type": "code",
   "execution_count": null,
   "metadata": {
    "ExecuteTime": {
     "end_time": "2021-10-12T17:19:34.632823Z",
     "start_time": "2021-10-12T17:19:34.393240Z"
    }
   },
   "outputs": [],
   "source": [
    "plt.figure(figsize=(16, 9))\n",
    "\n",
    "# 実績\n",
    "plt.fill_between(all_x_1d, all_sin_y_1du, all_sin_y_1do, color='orange', lw=2, label='sine 2sigma-neighborhood', alpha=0.5)\n",
    "plt.scatter(all_x_1d, all_y_1d, color='red', lw=2, label='sine + gaussian noize')\n",
    "\n",
    "# 予測\n",
    "plt.plot(all_x_1d, a2f_pred1d, color='blue', lw=4, label='2D approximation')\n",
    "\n",
    "plt.ylim([-1.75, 1.75])\n",
    "\n",
    "plt.legend(bbox_to_anchor=(0, 1), loc='upper left', borderaxespad=0.5, fontsize=15)\n",
    "\n",
    "plt.grid()\n",
    "plt.title('d2func_approximation_1Dsample', fontsize=20)"
   ]
  },
  {
   "cell_type": "markdown",
   "metadata": {},
   "source": [
    "## Gaussian RBF interpolate approximation"
   ]
  },
  {
   "cell_type": "code",
   "execution_count": null,
   "metadata": {
    "ExecuteTime": {
     "end_time": "2021-10-12T17:19:34.637289Z",
     "start_time": "2021-10-12T17:19:34.634311Z"
    }
   },
   "outputs": [],
   "source": [
    "n_samples_list = [20, 50]\n",
    "beta_val_list = [0, 0.1, 1, 10]\n",
    "lambda_val_list = [0, 0.1, 1, 10]"
   ]
  },
  {
   "cell_type": "code",
   "execution_count": null,
   "metadata": {
    "ExecuteTime": {
     "end_time": "2021-10-12T17:21:24.376508Z",
     "start_time": "2021-10-12T17:19:34.638776Z"
    },
    "code_folding": []
   },
   "outputs": [],
   "source": [
    "n_ii = len(n_samples_list)\n",
    "n_jj = len(beta_val_list)\n",
    "n_kk = len(lambda_val_list)\n",
    "\n",
    "\n",
    "for ii in range(n_ii):\n",
    "    \n",
    "    plt.figure(\n",
    "        figsize=(n_jj*16, n_kk*9),\n",
    "        facecolor='white',\n",
    "        dpi=150\n",
    "    )\n",
    "\n",
    "    # 余白を設定\n",
    "    plt.subplots_adjust(wspace=0.1, hspace=0.15, left=0.05, right=0.95, bottom=0.05, top=0.95)\n",
    "    \n",
    "    num_hyper = 0\n",
    "    num_plt = 1\n",
    "    n_samples = n_samples_list[ii]\n",
    "    \n",
    "    # hyper parameters\n",
    "    for jj in range(n_jj):\n",
    "        for kk in range(n_kk):\n",
    "            \n",
    "            beta_val = beta_val_list[jj]\n",
    "            lambda_val = lambda_val_list[kk]\n",
    "            \n",
    "            if num_hyper==0:\n",
    "                ari_reg1d = ari(\n",
    "                    rbf='gaussian',\n",
    "                    beta_val=beta_val,\n",
    "                    lambda_val=lambda_val,\n",
    "                    n_samples=n_samples,\n",
    "                    rel_ct='exclusive'\n",
    "                )\n",
    "            else:\n",
    "                ari_reg1d.set_params(**{\n",
    "                    'beta_val': beta_val,\n",
    "                    'lambda_val': lambda_val\n",
    "                })\n",
    "            \n",
    "            ari_reg1d.fit(x_1d_, y_1d)\n",
    "            ari_pred1d = ari_reg1d.predict(all_x_1d_)\n",
    "            ari_pred1d_centers_x = ari_reg1d.center_x_arr\n",
    "            ari_pred1d_centers_y = ari_reg1d.center_y_arr\n",
    "            \n",
    "            # 可視化\n",
    "            # 行数, 列数\n",
    "            plt.subplot(n_kk, n_jj, num_plt)\n",
    "\n",
    "            # 実績\n",
    "            plt.fill_between(all_x_1d, all_sin_y_1du, all_sin_y_1do, color='orange', lw=2, label='sine 2sigma-neighborhood', alpha=0.5)\n",
    "            plt.plot(all_x_1d, all_y_1d, color='red', lw=2, label='sine + Gaussian noize')\n",
    "\n",
    "            # 予測\n",
    "            plt.plot(all_x_1d, ari_pred1d, color='blue', lw=4, label='Gaussian RBF approximation')\n",
    "            plt.scatter(ari_pred1d_centers_x, ari_pred1d_centers_y, color='blue', lw=5, label='center points of RBF')\n",
    "            \n",
    "            plt.ylim([-1.75, 1.75])\n",
    "\n",
    "            plt.legend(bbox_to_anchor=(0, 1), loc='upper left', borderaxespad=0.5, fontsize=15)\n",
    "            plt.grid()\n",
    "            \n",
    "            #title = 'n_samples:'+str(n_samples)+', beta_val:'+str(beta_val)+', lambda_val:'+str(lambda_val)\n",
    "            title = 'Gaussian RBF (N, beta, lambda) = ('+str(n_samples)+', '+str(beta_val)+', '+str(lambda_val)+')'\n",
    "            plt.title(label=title, fontdict={'fontsize': 20})\n",
    "            \n",
    "            num_plt += 1\n",
    "            num_hyper += 1"
   ]
  },
  {
   "cell_type": "markdown",
   "metadata": {},
   "source": [
    "## Thin Plate Spline RBF interpolate approximation"
   ]
  },
  {
   "cell_type": "code",
   "execution_count": null,
   "metadata": {
    "ExecuteTime": {
     "end_time": "2021-10-12T17:21:24.383451Z",
     "start_time": "2021-10-12T17:21:24.378491Z"
    }
   },
   "outputs": [],
   "source": [
    "n_samples_list = [20, 50]\n",
    "beta_val_list = [0]\n",
    "lambda_val_list = [0, 0.1, 1, 10]"
   ]
  },
  {
   "cell_type": "code",
   "execution_count": null,
   "metadata": {
    "ExecuteTime": {
     "end_time": "2021-10-12T17:22:34.877882Z",
     "start_time": "2021-10-12T17:21:24.384444Z"
    },
    "code_folding": [],
    "scrolled": false
   },
   "outputs": [],
   "source": [
    "n_ii = len(n_samples_list)\n",
    "n_jj = len(beta_val_list)\n",
    "n_kk = len(lambda_val_list)\n",
    "\n",
    "\n",
    "for ii in range(n_ii):\n",
    "    \n",
    "    plt.figure(\n",
    "        figsize=(n_jj*16, n_kk*9),\n",
    "        facecolor='white',\n",
    "        dpi=150\n",
    "    )\n",
    "\n",
    "    # 余白を設定\n",
    "    plt.subplots_adjust(wspace=0.1, hspace=0.15, left=0.05, right=0.95, bottom=0.05, top=0.95)\n",
    "    \n",
    "    num_hyper = 0\n",
    "    num_plt = 1\n",
    "    n_samples = n_samples_list[ii]\n",
    "    \n",
    "    # hyper parameters\n",
    "    for jj in range(n_jj):\n",
    "        for kk in range(n_kk):\n",
    "            \n",
    "            beta_val = beta_val_list[jj]\n",
    "            lambda_val = lambda_val_list[kk]\n",
    "            \n",
    "            if num_hyper==0:\n",
    "                ari_reg1d = ari(\n",
    "                    rbf='TPS',\n",
    "                    beta_val=beta_val,\n",
    "                    lambda_val=lambda_val,\n",
    "                    n_samples=n_samples,\n",
    "                    rel_ct='exclusive'\n",
    "                )\n",
    "            else:\n",
    "                ari_reg1d.set_params(**{\n",
    "                    'beta_val': beta_val,\n",
    "                    'lambda_val': lambda_val\n",
    "                })\n",
    "            \n",
    "            ari_reg1d.fit(x_1d_, y_1d)\n",
    "            ari_pred1d = ari_reg1d.predict(all_x_1d_)\n",
    "            ari_pred1d_centers_x = ari_reg1d.center_x_arr\n",
    "            ari_pred1d_centers_y = ari_reg1d.center_y_arr\n",
    "            \n",
    "            # 可視化\n",
    "            # 行数, 列数\n",
    "            plt.subplot(n_kk, n_jj, num_plt)\n",
    "\n",
    "            # 実績\n",
    "            plt.fill_between(all_x_1d, all_sin_y_1du, all_sin_y_1do, color='orange', lw=2, label='sine 2sigma-neighborhood', alpha=0.5)\n",
    "            plt.plot(all_x_1d, all_y_1d, color='red', lw=2, label='sine + TPS noize')\n",
    "\n",
    "            # 予測\n",
    "            plt.plot(all_x_1d, ari_pred1d, color='blue', lw=4, label='TPS RBF approximation')\n",
    "            plt.scatter(ari_pred1d_centers_x, ari_pred1d_centers_y, color='blue', lw=5, label='center points of RBF')\n",
    "            \n",
    "            plt.ylim([-1.75, 1.75])\n",
    "\n",
    "            plt.legend(bbox_to_anchor=(0, 1), loc='upper left', borderaxespad=0.5, fontsize=15)\n",
    "            plt.grid()\n",
    "            \n",
    "            #title = 'n_samples:'+str(n_samples)+', beta_val:'+str(beta_val)+', lambda_val:'+str(lambda_val)\n",
    "            title = 'Thin Plate Spline RBF (N, lambda) = ('+str(n_samples)+', '+str(lambda_val)+')'\n",
    "            plt.title(label=title, fontdict={'fontsize': 20})\n",
    "            \n",
    "            num_plt += 1\n",
    "            num_hyper += 1"
   ]
  },
  {
   "cell_type": "code",
   "execution_count": null,
   "metadata": {},
   "outputs": [],
   "source": []
  },
  {
   "cell_type": "markdown",
   "metadata": {},
   "source": [
    "# 2-dim sample\n",
    "\n",
    "- 2次元データのサンプル"
   ]
  },
  {
   "cell_type": "markdown",
   "metadata": {},
   "source": [
    "## make sample data"
   ]
  },
  {
   "cell_type": "markdown",
   "metadata": {},
   "source": [
    "### train作成"
   ]
  },
  {
   "cell_type": "code",
   "execution_count": null,
   "metadata": {
    "ExecuteTime": {
     "end_time": "2021-10-12T17:22:34.884330Z",
     "start_time": "2021-10-12T17:22:34.878874Z"
    }
   },
   "outputs": [],
   "source": [
    "n_dim = 2\n",
    "train_n_sample_grid = 20\n",
    "train_n_sample = train_n_sample_grid ** n_dim\n",
    "gaussian_noize_std = 0.1\n",
    "#gaussian_noize_std = 0\n",
    "\n",
    "# (x,y)データを作成\n",
    "train_x1 = np.linspace(-3*pi, 3*pi, train_n_sample_grid)\n",
    "train_x2 = np.linspace(-3*pi, 3*pi, train_n_sample_grid)\n",
    "\n",
    "# 格子点を作成\n",
    "train_X1, train_X2 = np.meshgrid(train_x1, train_x2)\n",
    "\n",
    "# sampleの計算式\n",
    "train_Y = np.cos(train_X1/pi) * np.sin(train_X2/pi)\n",
    "train_Y += np.random.normal(0, gaussian_noize_std, size=train_Y.shape)\n",
    "\n",
    "print('train sample size:', train_n_sample)"
   ]
  },
  {
   "cell_type": "code",
   "execution_count": null,
   "metadata": {},
   "outputs": [],
   "source": []
  },
  {
   "cell_type": "markdown",
   "metadata": {},
   "source": [
    "### test作成"
   ]
  },
  {
   "cell_type": "code",
   "execution_count": null,
   "metadata": {
    "ExecuteTime": {
     "end_time": "2021-10-12T17:22:34.894746Z",
     "start_time": "2021-10-12T17:22:34.885322Z"
    }
   },
   "outputs": [],
   "source": [
    "test_n_sample_grid = 100\n",
    "test_n_sample = test_n_sample_grid ** n_dim\n",
    "\n",
    "# (x,y)データを作成\n",
    "test_x1 = np.linspace(-3*pi, 3*pi, test_n_sample_grid)\n",
    "test_x2 = np.linspace(-3*pi, 3*pi, test_n_sample_grid)\n",
    "\n",
    "# 格子点を作成\n",
    "test_X1, test_X2 = np.meshgrid(test_x1, test_x2)\n",
    "\n",
    "# sampleの計算式\n",
    "test_Y = np.cos(test_X1/pi) * np.sin(test_X2/pi)\n",
    "test_Y += np.random.normal(0, gaussian_noize_std, size=test_Y.shape)\n",
    "\n",
    "print('test sample size:', test_n_sample)"
   ]
  },
  {
   "cell_type": "code",
   "execution_count": null,
   "metadata": {},
   "outputs": [],
   "source": []
  },
  {
   "cell_type": "markdown",
   "metadata": {},
   "source": [
    "### wide版(long)作成"
   ]
  },
  {
   "cell_type": "code",
   "execution_count": null,
   "metadata": {
    "ExecuteTime": {
     "end_time": "2021-10-12T17:22:34.902186Z",
     "start_time": "2021-10-12T17:22:34.896234Z"
    }
   },
   "outputs": [],
   "source": [
    "long_n_sample_grid = 150\n",
    "long_n_sample = long_n_sample_grid ** n_dim\n",
    "\n",
    "# (x,y)データを作成\n",
    "long_x1 = np.linspace(-30, 30, long_n_sample_grid)\n",
    "long_x2 = np.linspace(-30, 30, long_n_sample_grid)\n",
    "\n",
    "# 格子点を作成\n",
    "long_X1, long_X2 = np.meshgrid(long_x1, long_x2)\n",
    "\n",
    "# sampleの計算式\n",
    "long_Y = np.cos(long_X1/pi) * np.sin(long_X2/pi)\n",
    "long_Y += np.random.normal(0, gaussian_noize_std, size=long_Y.shape)\n",
    "\n",
    "print('long sample size:', long_n_sample)"
   ]
  },
  {
   "cell_type": "code",
   "execution_count": null,
   "metadata": {},
   "outputs": [],
   "source": []
  },
  {
   "cell_type": "markdown",
   "metadata": {},
   "source": [
    "## ndarray変換"
   ]
  },
  {
   "cell_type": "code",
   "execution_count": null,
   "metadata": {
    "ExecuteTime": {
     "end_time": "2021-10-12T17:22:34.908138Z",
     "start_time": "2021-10-12T17:22:34.904170Z"
    }
   },
   "outputs": [],
   "source": [
    "train_x_arr = np.array([train_X1.reshape(train_n_sample), train_X2.reshape(train_n_sample)]).T\n",
    "train_y_arr = train_Y.reshape(train_n_sample_grid**n_dim)"
   ]
  },
  {
   "cell_type": "code",
   "execution_count": null,
   "metadata": {
    "ExecuteTime": {
     "end_time": "2021-10-12T17:22:34.919547Z",
     "start_time": "2021-10-12T17:22:34.915082Z"
    }
   },
   "outputs": [],
   "source": [
    "test_x_arr = np.array([test_X1.reshape(test_n_sample), test_X2.reshape(test_n_sample)]).T\n",
    "test_y_arr = test_Y.reshape(test_n_sample_grid**n_dim)"
   ]
  },
  {
   "cell_type": "code",
   "execution_count": null,
   "metadata": {
    "ExecuteTime": {
     "end_time": "2021-10-12T17:22:34.927482Z",
     "start_time": "2021-10-12T17:22:34.923514Z"
    }
   },
   "outputs": [],
   "source": [
    "long_x_arr = np.array([long_X1.reshape(long_n_sample), long_X2.reshape(long_n_sample)]).T\n",
    "long_y_arr = long_Y.reshape(long_n_sample_grid**n_dim)"
   ]
  },
  {
   "cell_type": "code",
   "execution_count": null,
   "metadata": {},
   "outputs": [],
   "source": []
  },
  {
   "cell_type": "markdown",
   "metadata": {},
   "source": [
    "## 可視化"
   ]
  },
  {
   "cell_type": "markdown",
   "metadata": {},
   "source": [
    "### train"
   ]
  },
  {
   "cell_type": "code",
   "execution_count": null,
   "metadata": {
    "ExecuteTime": {
     "end_time": "2021-10-12T17:22:35.295779Z",
     "start_time": "2021-10-12T17:22:34.928970Z"
    }
   },
   "outputs": [],
   "source": [
    "# Figureと3DAxeS\n",
    "fig = plt.figure(figsize = (12, 12))\n",
    "ax = fig.add_subplot(111, projection='3d')\n",
    "\n",
    "ax.set_title('2D sample train data', size=20)\n",
    "\n",
    "# 軸ラベルを設定\n",
    "ax.set_xlabel('train_x1', size = 16)\n",
    "ax.set_ylabel('train_x2', size = 16)\n",
    "ax.set_zlabel('train_y', size = 16)\n",
    "\n",
    "# 曲面を描画\n",
    "ax.plot_surface(train_X1, train_X2, train_Y, cmap='jet')\n",
    "\n",
    "# 底面に等高線を描画\n",
    "ax.contour(train_X1, train_X2, train_Y, colors = 'black', offset = -1)\n",
    "\n",
    "plt.show()"
   ]
  },
  {
   "cell_type": "markdown",
   "metadata": {},
   "source": [
    "### test"
   ]
  },
  {
   "cell_type": "code",
   "execution_count": null,
   "metadata": {
    "ExecuteTime": {
     "end_time": "2021-10-12T17:22:35.725811Z",
     "start_time": "2021-10-12T17:22:35.296771Z"
    }
   },
   "outputs": [],
   "source": [
    "# Figureと3DAxeS\n",
    "fig = plt.figure(figsize = (12, 12))\n",
    "ax = fig.add_subplot(111, projection='3d')\n",
    "\n",
    "ax.set_title('2D sample test data', size=20)\n",
    "\n",
    "# 軸ラベルを設定\n",
    "ax.set_xlabel('test_x1', size = 16)\n",
    "ax.set_ylabel('test_x2', size = 16)\n",
    "ax.set_zlabel('test_y', size = 16)\n",
    "\n",
    "# 曲面を描画\n",
    "ax.plot_surface(test_X1, test_X2, test_Y, cmap='jet')\n",
    "\n",
    "# 底面に等高線を描画\n",
    "ax.contour(test_X1, test_X2, test_Y, colors = 'black', offset = -1)\n",
    "\n",
    "plt.show()"
   ]
  },
  {
   "cell_type": "code",
   "execution_count": null,
   "metadata": {},
   "outputs": [],
   "source": []
  },
  {
   "cell_type": "markdown",
   "metadata": {},
   "source": [
    "### train + test"
   ]
  },
  {
   "cell_type": "code",
   "execution_count": null,
   "metadata": {
    "ExecuteTime": {
     "end_time": "2021-10-12T17:22:36.190562Z",
     "start_time": "2021-10-12T17:22:35.726803Z"
    }
   },
   "outputs": [],
   "source": [
    "# Figureと3DAxeS\n",
    "fig = plt.figure(figsize = (12, 12))\n",
    "ax = fig.add_subplot(111, projection='3d')\n",
    "\n",
    "ax.set_title('2D sample train and test data', size=20)\n",
    "\n",
    "# 軸ラベルを設定\n",
    "ax.set_xlabel('x1', size = 16)\n",
    "ax.set_ylabel('x2', size = 16)\n",
    "ax.set_zlabel('y', size = 16)\n",
    "\n",
    "# 曲面を描画\n",
    "#ax.plot_surface(train_X1, train_X2, train_Y, cmap='jet', alpha=0.5)\n",
    "ax.plot_surface(train_X1, train_X2, train_Y, alpha=0.5, edgecolor='black')\n",
    "ax.plot_surface(test_X1, test_X2, test_Y, cmap='ocean', alpha=0.5)\n",
    "\n",
    "# 底面に等高線を描画\n",
    "ax.contour(test_X1, test_X2, test_Y, colors = 'black', offset = -1)\n",
    "\n",
    "plt.show()"
   ]
  },
  {
   "cell_type": "code",
   "execution_count": null,
   "metadata": {},
   "outputs": [],
   "source": []
  },
  {
   "cell_type": "markdown",
   "metadata": {},
   "source": [
    "### wide版"
   ]
  },
  {
   "cell_type": "code",
   "execution_count": null,
   "metadata": {
    "ExecuteTime": {
     "end_time": "2021-10-12T17:22:36.688051Z",
     "start_time": "2021-10-12T17:22:36.192051Z"
    }
   },
   "outputs": [],
   "source": [
    "# Figureと3DAxeS\n",
    "fig = plt.figure(figsize = (12, 12))\n",
    "ax = fig.add_subplot(111, projection='3d')\n",
    "\n",
    "ax.set_title('2D sample wide data', size=20)\n",
    "\n",
    "# 軸ラベルを設定\n",
    "ax.set_xlabel('x1', size = 16)\n",
    "ax.set_ylabel('x2', size = 16)\n",
    "ax.set_zlabel('wide_y', size = 16)\n",
    "\n",
    "# 曲面を描画\n",
    "ax.plot_surface(long_X1, long_X2, long_Y, cmap='jet')\n",
    "\n",
    "# 底面に等高線を描画\n",
    "ax.contour(long_X1, long_X2, long_Y, colors = 'black', offset = -1)\n",
    "\n",
    "plt.show()"
   ]
  },
  {
   "cell_type": "code",
   "execution_count": null,
   "metadata": {},
   "outputs": [],
   "source": []
  },
  {
   "cell_type": "markdown",
   "metadata": {},
   "source": [
    "# 2-dim sample modeling"
   ]
  },
  {
   "cell_type": "markdown",
   "metadata": {},
   "source": [
    "## 2D function approximation"
   ]
  },
  {
   "cell_type": "code",
   "execution_count": null,
   "metadata": {
    "ExecuteTime": {
     "end_time": "2021-10-12T17:22:36.702930Z",
     "start_time": "2021-10-12T17:22:36.689538Z"
    }
   },
   "outputs": [],
   "source": [
    "a2f_reg = a2f()\n",
    "a2f_reg.fit(train_x_arr, train_y_arr)"
   ]
  },
  {
   "cell_type": "code",
   "execution_count": null,
   "metadata": {
    "ExecuteTime": {
     "end_time": "2021-10-12T17:22:36.993090Z",
     "start_time": "2021-10-12T17:22:36.705410Z"
    }
   },
   "outputs": [],
   "source": [
    "a2fpred_train_y_arr = a2f_reg.predict(train_x_arr)\n",
    "a2fpred_test_y_arr = a2f_reg.predict(test_x_arr)"
   ]
  },
  {
   "cell_type": "code",
   "execution_count": null,
   "metadata": {
    "ExecuteTime": {
     "end_time": "2021-10-12T17:22:37.003010Z",
     "start_time": "2021-10-12T17:22:36.994081Z"
    }
   },
   "outputs": [],
   "source": [
    "pd.DataFrame(a2f_reg.opt_A_mat)"
   ]
  },
  {
   "cell_type": "code",
   "execution_count": null,
   "metadata": {},
   "outputs": [],
   "source": []
  },
  {
   "cell_type": "markdown",
   "metadata": {},
   "source": [
    "## Gaussian RBF interpolate approximation"
   ]
  },
  {
   "cell_type": "markdown",
   "metadata": {},
   "source": [
    "### grid search"
   ]
  },
  {
   "cell_type": "code",
   "execution_count": null,
   "metadata": {
    "ExecuteTime": {
     "end_time": "2021-10-12T17:22:37.007970Z",
     "start_time": "2021-10-12T17:22:37.004994Z"
    }
   },
   "outputs": [],
   "source": [
    "gaussian_gs_start = time.time()"
   ]
  },
  {
   "cell_type": "code",
   "execution_count": null,
   "metadata": {
    "ExecuteTime": {
     "end_time": "2021-10-12T17:22:37.012930Z",
     "start_time": "2021-10-12T17:22:37.009458Z"
    }
   },
   "outputs": [],
   "source": [
    "gs_kf = KFold(n_splits=2, shuffle=True, random_state=57)"
   ]
  },
  {
   "cell_type": "code",
   "execution_count": null,
   "metadata": {
    "ExecuteTime": {
     "end_time": "2021-10-12T17:22:37.017890Z",
     "start_time": "2021-10-12T17:22:37.014418Z"
    }
   },
   "outputs": [],
   "source": [
    "gs_reg0 = ari(\n",
    "    rbf='gaussian',\n",
    "    gtol=1e-8,\n",
    "    n_samples=100,\n",
    "    rel_ct='exclusive',\n",
    "    sampling_method='random',\n",
    "    random_state=57,\n",
    "    print_debug=False\n",
    ")"
   ]
  },
  {
   "cell_type": "code",
   "execution_count": null,
   "metadata": {
    "ExecuteTime": {
     "end_time": "2021-10-12T17:22:37.023842Z",
     "start_time": "2021-10-12T17:22:37.019378Z"
    }
   },
   "outputs": [],
   "source": [
    "gaussian_ari_param_grid0 = {\n",
    "    #'w0_arr': w0_patterns,\n",
    "    'beta_val': [0.01, 0.1, 0.5, 1],\n",
    "    'lambda_val': [0, 0.1, 0.5, 1]\n",
    "    #'n_samples': [10, 20, 30],\n",
    "    #'sampling_method': ['random', 'last']\n",
    "}"
   ]
  },
  {
   "cell_type": "code",
   "execution_count": null,
   "metadata": {
    "ExecuteTime": {
     "end_time": "2021-10-12T17:25:38.456151Z",
     "start_time": "2021-10-12T17:22:37.025330Z"
    },
    "scrolled": true
   },
   "outputs": [],
   "source": [
    "# grid searchの実行\n",
    "gs0 = GridSearchCV(\n",
    "    gs_reg0,\n",
    "    param_grid=gaussian_ari_param_grid0,\n",
    "    scoring='neg_mean_absolute_error',\n",
    "    # cv=2\n",
    "    cv=gs_kf\n",
    ")\n",
    "gs0.fit(train_x_arr, train_y_arr)"
   ]
  },
  {
   "cell_type": "code",
   "execution_count": null,
   "metadata": {
    "ExecuteTime": {
     "end_time": "2021-10-12T17:25:38.462599Z",
     "start_time": "2021-10-12T17:25:38.457639Z"
    }
   },
   "outputs": [],
   "source": [
    "# 最適なパラメータとスコアの確認\n",
    "gs0.best_params_, gs0.best_score_, gs0.best_estimator_.params"
   ]
  },
  {
   "cell_type": "code",
   "execution_count": null,
   "metadata": {
    "ExecuteTime": {
     "end_time": "2021-10-12T17:25:38.476487Z",
     "start_time": "2021-10-12T17:25:38.464087Z"
    },
    "scrolled": true
   },
   "outputs": [],
   "source": [
    "gs0.cv_results_"
   ]
  },
  {
   "cell_type": "code",
   "execution_count": null,
   "metadata": {
    "ExecuteTime": {
     "end_time": "2021-10-12T17:25:38.484423Z",
     "start_time": "2021-10-12T17:25:38.478471Z"
    }
   },
   "outputs": [],
   "source": [
    "best_gaussian_ari_params0 = gs0.best_estimator_.get_params()\n",
    "print('best params:')\n",
    "print(best_gaussian_ari_params0)"
   ]
  },
  {
   "cell_type": "code",
   "execution_count": null,
   "metadata": {
    "ExecuteTime": {
     "end_time": "2021-10-12T17:25:51.049083Z",
     "start_time": "2021-10-12T17:25:38.486407Z"
    }
   },
   "outputs": [],
   "source": [
    "gs_reg1 = ari(**best_gaussian_ari_params0)\n",
    "gs_reg1.fit(train_x_arr, train_y_arr)\n",
    "gs_reg1.get_params()"
   ]
  },
  {
   "cell_type": "code",
   "execution_count": null,
   "metadata": {
    "ExecuteTime": {
     "end_time": "2021-10-12T17:25:51.085415Z",
     "start_time": "2021-10-12T17:25:51.050571Z"
    },
    "code_folding": [],
    "scrolled": true
   },
   "outputs": [],
   "source": [
    "# 重み初期値候補\n",
    "w0_patterns = list(stats.temp_multivar_normal_dist_sampling(gs_reg1.params['n_samples'], 3, mean_val=1, var_val=4))\n",
    "w0_patterns += [np.zeros(gs_reg1.params['n_samples'])]\n",
    "print(w0_patterns[:5])"
   ]
  },
  {
   "cell_type": "code",
   "execution_count": null,
   "metadata": {
    "ExecuteTime": {
     "end_time": "2021-10-12T17:25:51.092359Z",
     "start_time": "2021-10-12T17:25:51.086903Z"
    }
   },
   "outputs": [],
   "source": [
    "gaussian_ari_param_grid1 = {\n",
    "    'w0_arr': w0_patterns\n",
    "}"
   ]
  },
  {
   "cell_type": "code",
   "execution_count": null,
   "metadata": {
    "ExecuteTime": {
     "end_time": "2021-10-12T17:26:59.174247Z",
     "start_time": "2021-10-12T17:25:51.093847Z"
    }
   },
   "outputs": [],
   "source": [
    "# 重み初期値についてgrid searchを実行する.\n",
    "gs1 = GridSearchCV(\n",
    "    gs_reg1,\n",
    "    param_grid=gaussian_ari_param_grid1,\n",
    "    scoring='neg_mean_absolute_error',\n",
    "    # cv=2\n",
    "    cv=gs_kf\n",
    ")\n",
    "gs1.fit(train_x_arr, train_y_arr)"
   ]
  },
  {
   "cell_type": "code",
   "execution_count": null,
   "metadata": {
    "ExecuteTime": {
     "end_time": "2021-10-12T17:26:59.179704Z",
     "start_time": "2021-10-12T17:26:59.175735Z"
    }
   },
   "outputs": [],
   "source": [
    "# 最適なパラメータとスコアの確認\n",
    "gs1.best_params_, gs1.best_score_"
   ]
  },
  {
   "cell_type": "code",
   "execution_count": null,
   "metadata": {
    "ExecuteTime": {
     "end_time": "2021-10-12T17:26:59.188136Z",
     "start_time": "2021-10-12T17:26:59.181192Z"
    }
   },
   "outputs": [],
   "source": [
    "best_gaussian_ari_params1 = gs1.best_estimator_.get_params()\n",
    "print('best params:')\n",
    "print(best_gaussian_ari_params1)"
   ]
  },
  {
   "cell_type": "code",
   "execution_count": null,
   "metadata": {
    "ExecuteTime": {
     "end_time": "2021-10-12T17:26:59.196568Z",
     "start_time": "2021-10-12T17:26:59.190120Z"
    }
   },
   "outputs": [],
   "source": [
    "utils.get_elapsed_time(gaussian_gs_start)"
   ]
  },
  {
   "cell_type": "markdown",
   "metadata": {},
   "source": [
    "### modeling"
   ]
  },
  {
   "cell_type": "code",
   "execution_count": null,
   "metadata": {
    "ExecuteTime": {
     "end_time": "2021-10-12T17:26:59.201528Z",
     "start_time": "2021-10-12T17:26:59.198552Z"
    }
   },
   "outputs": [],
   "source": [
    "gaussian_ari_params0 = best_gaussian_ari_params1"
   ]
  },
  {
   "cell_type": "code",
   "execution_count": null,
   "metadata": {
    "ExecuteTime": {
     "end_time": "2021-10-12T17:27:12.153067Z",
     "start_time": "2021-10-12T17:26:59.204008Z"
    }
   },
   "outputs": [],
   "source": [
    "# best paramsを設定してモデリング\n",
    "gaussian_ari_reg = ari(**gaussian_ari_params0)\n",
    "gaussian_ari_reg.fit(train_x_arr, train_y_arr)"
   ]
  },
  {
   "cell_type": "code",
   "execution_count": null,
   "metadata": {
    "ExecuteTime": {
     "end_time": "2021-10-12T17:27:12.159019Z",
     "start_time": "2021-10-12T17:27:12.154059Z"
    }
   },
   "outputs": [],
   "source": [
    "gaussian_ari_reg.get_params()"
   ]
  },
  {
   "cell_type": "code",
   "execution_count": null,
   "metadata": {
    "ExecuteTime": {
     "end_time": "2021-10-12T17:27:17.487048Z",
     "start_time": "2021-10-12T17:27:12.160507Z"
    }
   },
   "outputs": [],
   "source": [
    "gaussian_aripred_train_y_arr = gaussian_ari_reg.predict(train_x_arr)\n",
    "gaussian_aripred_test_y_arr = gaussian_ari_reg.predict(test_x_arr)"
   ]
  },
  {
   "cell_type": "markdown",
   "metadata": {},
   "source": [
    "## Thin Plate Spline RBF interpolate approximation"
   ]
  },
  {
   "cell_type": "code",
   "execution_count": null,
   "metadata": {
    "ExecuteTime": {
     "end_time": "2021-10-12T17:27:17.492999Z",
     "start_time": "2021-10-12T17:27:17.488535Z"
    }
   },
   "outputs": [],
   "source": [
    "trbf = ari().thin_plate_spline_rbf\n",
    "trbf"
   ]
  },
  {
   "cell_type": "code",
   "execution_count": null,
   "metadata": {
    "ExecuteTime": {
     "end_time": "2021-10-12T17:27:17.593190Z",
     "start_time": "2021-10-12T17:27:17.493990Z"
    }
   },
   "outputs": [],
   "source": [
    "x_ = np.arange(-1, 1.01, 0.01)\n",
    "#y_ = [trbf(np.array([0]), np.array([i])) for i in x_]\n",
    "y_ = [trbf(0, i, beta_val=10) for i in x_]\n",
    "plt.plot(x_, y_)"
   ]
  },
  {
   "cell_type": "code",
   "execution_count": null,
   "metadata": {},
   "outputs": [],
   "source": []
  },
  {
   "cell_type": "markdown",
   "metadata": {},
   "source": [
    "### grid search"
   ]
  },
  {
   "cell_type": "code",
   "execution_count": null,
   "metadata": {
    "ExecuteTime": {
     "end_time": "2021-10-12T17:27:17.597159Z",
     "start_time": "2021-10-12T17:27:17.594182Z"
    }
   },
   "outputs": [],
   "source": [
    "tps_gs_start = time.time()"
   ]
  },
  {
   "cell_type": "code",
   "execution_count": null,
   "metadata": {
    "ExecuteTime": {
     "end_time": "2021-10-12T17:27:17.604598Z",
     "start_time": "2021-10-12T17:27:17.598150Z"
    }
   },
   "outputs": [],
   "source": [
    "gs_kf = KFold(n_splits=2, shuffle=True, random_state=57)"
   ]
  },
  {
   "cell_type": "code",
   "execution_count": null,
   "metadata": {
    "ExecuteTime": {
     "end_time": "2021-10-12T17:27:17.609558Z",
     "start_time": "2021-10-12T17:27:17.606086Z"
    }
   },
   "outputs": [],
   "source": [
    "#gs_reg0 = ari(rbf='TPS', gtol=1e-8, n_samples=100, rel_ct='equal', sampling_method='random', random_state=57, print_debug=False)\n",
    "#gs_reg0 = ari(rbf='TPS', gtol=1e-8, n_samples=100, rel_ct='all', sampling_method='random', random_state=57, print_debug=False)\n",
    "gs_reg0 = ari(rbf='TPS', gtol=1e-8, n_samples=100, rel_ct='exclusive', sampling_method='random', random_state=57, print_debug=False)"
   ]
  },
  {
   "cell_type": "code",
   "execution_count": null,
   "metadata": {
    "ExecuteTime": {
     "end_time": "2021-10-12T17:27:17.614023Z",
     "start_time": "2021-10-12T17:27:17.611047Z"
    }
   },
   "outputs": [],
   "source": [
    "tps_ari_param_grid0 = {\n",
    "    #'w0_arr': w0_patterns,\n",
    "    'lambda_val': [0, 0.1, 0.5, 1, 2, 10]\n",
    "    #'n_samples': [10, 20, 30],\n",
    "    #'sampling_method': ['random', 'last']\n",
    "}"
   ]
  },
  {
   "cell_type": "code",
   "execution_count": null,
   "metadata": {
    "ExecuteTime": {
     "end_time": "2021-10-12T17:31:34.985207Z",
     "start_time": "2021-10-12T17:27:17.615511Z"
    },
    "scrolled": true
   },
   "outputs": [],
   "source": [
    "# grid searchの実行\n",
    "gs0 = GridSearchCV(\n",
    "    gs_reg0,\n",
    "    param_grid=tps_ari_param_grid0,\n",
    "    scoring='neg_mean_absolute_error',\n",
    "    # cv=2\n",
    "    cv=gs_kf\n",
    ")\n",
    "gs0.fit(train_x_arr, train_y_arr)"
   ]
  },
  {
   "cell_type": "code",
   "execution_count": null,
   "metadata": {
    "ExecuteTime": {
     "end_time": "2021-10-12T17:31:34.991655Z",
     "start_time": "2021-10-12T17:31:34.986199Z"
    }
   },
   "outputs": [],
   "source": [
    "# 最適なパラメータとスコアの確認\n",
    "gs0.best_params_, gs0.best_score_, gs0.best_estimator_.params"
   ]
  },
  {
   "cell_type": "code",
   "execution_count": null,
   "metadata": {
    "ExecuteTime": {
     "end_time": "2021-10-12T17:31:35.001575Z",
     "start_time": "2021-10-12T17:31:34.993639Z"
    },
    "scrolled": true
   },
   "outputs": [],
   "source": [
    "gs0.cv_results_"
   ]
  },
  {
   "cell_type": "code",
   "execution_count": null,
   "metadata": {
    "ExecuteTime": {
     "end_time": "2021-10-12T17:31:35.008023Z",
     "start_time": "2021-10-12T17:31:35.003063Z"
    }
   },
   "outputs": [],
   "source": [
    "best_tps_ari_params0 = gs0.best_estimator_.get_params()\n",
    "best_tps_ari_params0"
   ]
  },
  {
   "cell_type": "code",
   "execution_count": null,
   "metadata": {
    "ExecuteTime": {
     "end_time": "2021-10-12T17:32:25.270656Z",
     "start_time": "2021-10-12T17:31:35.010008Z"
    },
    "scrolled": true
   },
   "outputs": [],
   "source": [
    "gs_reg1 = ari(**best_tps_ari_params0)\n",
    "gs_reg1.fit(train_x_arr, train_y_arr)\n",
    "gs_reg1.get_params()"
   ]
  },
  {
   "cell_type": "code",
   "execution_count": null,
   "metadata": {
    "ExecuteTime": {
     "end_time": "2021-10-12T17:32:25.281048Z",
     "start_time": "2021-10-12T17:32:25.271624Z"
    },
    "scrolled": true
   },
   "outputs": [],
   "source": [
    "# 重み初期値候補\n",
    "w0_patterns = list(stats.temp_multivar_normal_dist_sampling(gs_reg1.params['n_samples'], 3, mean_val=1, var_val=4))\n",
    "w0_patterns += [np.zeros(gs_reg1.params['n_samples'])]\n",
    "print(w0_patterns[:5])"
   ]
  },
  {
   "cell_type": "code",
   "execution_count": null,
   "metadata": {
    "ExecuteTime": {
     "end_time": "2021-10-12T17:32:25.285016Z",
     "start_time": "2021-10-12T17:32:25.282041Z"
    }
   },
   "outputs": [],
   "source": [
    "tps_ari_param_grid1 = {\n",
    "    'w0_arr': w0_patterns\n",
    "}"
   ]
  },
  {
   "cell_type": "code",
   "execution_count": null,
   "metadata": {
    "ExecuteTime": {
     "end_time": "2021-10-12T17:37:04.043701Z",
     "start_time": "2021-10-12T17:32:25.286008Z"
    }
   },
   "outputs": [],
   "source": [
    "# 重み初期値についてgrid searchを実行する.\n",
    "gs1 = GridSearchCV(\n",
    "    gs_reg1,\n",
    "    param_grid=tps_ari_param_grid1,\n",
    "    scoring='neg_mean_absolute_error',\n",
    "    # cv=2\n",
    "    cv=gs_kf\n",
    ")\n",
    "gs1.fit(train_x_arr, train_y_arr)"
   ]
  },
  {
   "cell_type": "code",
   "execution_count": null,
   "metadata": {
    "ExecuteTime": {
     "end_time": "2021-10-12T17:37:04.050149Z",
     "start_time": "2021-10-12T17:37:04.045685Z"
    }
   },
   "outputs": [],
   "source": [
    "# 最適なパラメータとスコアの確認\n",
    "gs1.best_params_, gs1.best_score_"
   ]
  },
  {
   "cell_type": "code",
   "execution_count": null,
   "metadata": {
    "ExecuteTime": {
     "end_time": "2021-10-12T17:37:04.060565Z",
     "start_time": "2021-10-12T17:37:04.051639Z"
    }
   },
   "outputs": [],
   "source": [
    "best_tps_ari_params1 = gs1.best_estimator_.get_params()\n",
    "best_tps_ari_params1"
   ]
  },
  {
   "cell_type": "code",
   "execution_count": null,
   "metadata": {
    "ExecuteTime": {
     "end_time": "2021-10-12T17:37:04.067013Z",
     "start_time": "2021-10-12T17:37:04.062549Z"
    }
   },
   "outputs": [],
   "source": [
    "utils.get_elapsed_time(tps_gs_start)"
   ]
  },
  {
   "cell_type": "markdown",
   "metadata": {},
   "source": [
    "### modeling"
   ]
  },
  {
   "cell_type": "code",
   "execution_count": null,
   "metadata": {
    "ExecuteTime": {
     "end_time": "2021-10-12T17:37:04.070981Z",
     "start_time": "2021-10-12T17:37:04.068005Z"
    }
   },
   "outputs": [],
   "source": [
    "tps_ari_params0 = best_tps_ari_params1"
   ]
  },
  {
   "cell_type": "code",
   "execution_count": null,
   "metadata": {
    "ExecuteTime": {
     "end_time": "2021-10-12T17:37:56.091909Z",
     "start_time": "2021-10-12T17:37:04.072469Z"
    }
   },
   "outputs": [],
   "source": [
    "# best paramsを設定してモデリング\n",
    "tps_ari_reg = ari(**tps_ari_params0)\n",
    "tps_ari_reg.fit(train_x_arr, train_y_arr)"
   ]
  },
  {
   "cell_type": "raw",
   "metadata": {
    "ExecuteTime": {
     "end_time": "2020-03-30T07:34:49.393463Z",
     "start_time": "2020-03-30T07:34:49.388434Z"
    }
   },
   "source": [
    "tps_ari_reg = gs1.best_estimator_"
   ]
  },
  {
   "cell_type": "code",
   "execution_count": null,
   "metadata": {
    "ExecuteTime": {
     "end_time": "2021-10-12T17:37:56.098357Z",
     "start_time": "2021-10-12T17:37:56.093397Z"
    }
   },
   "outputs": [],
   "source": [
    "tps_ari_reg.get_params()"
   ]
  },
  {
   "cell_type": "raw",
   "metadata": {
    "ExecuteTime": {
     "end_time": "2020-03-11T09:44:57.690108Z",
     "start_time": "2020-03-11T09:44:36.624869Z"
    }
   },
   "source": [
    "tps_ari_params0 = {\n",
    "    'beta_val': 0.2,\n",
    "    'lambda_val': 0.01,\n",
    "    'n_sample': 100,\n",
    "    'random_sampling': True,\n",
    "    'random_state': 57\n",
    "}\n",
    "\n",
    "tps_ari_reg = ari(**tps_ari_params0)\n",
    "tps_ari_reg.fit(train_x_arr, train_y_arr)"
   ]
  },
  {
   "cell_type": "code",
   "execution_count": null,
   "metadata": {
    "ExecuteTime": {
     "end_time": "2021-10-12T17:38:07.772716Z",
     "start_time": "2021-10-12T17:37:56.099349Z"
    }
   },
   "outputs": [],
   "source": [
    "tps_aripred_train_y_arr = tps_ari_reg.predict(train_x_arr)\n",
    "tps_aripred_test_y_arr = tps_ari_reg.predict(test_x_arr)"
   ]
  },
  {
   "cell_type": "code",
   "execution_count": null,
   "metadata": {},
   "outputs": [],
   "source": []
  },
  {
   "cell_type": "markdown",
   "metadata": {},
   "source": [
    "# Validation"
   ]
  },
  {
   "cell_type": "markdown",
   "metadata": {},
   "source": [
    "## train"
   ]
  },
  {
   "cell_type": "code",
   "execution_count": null,
   "metadata": {
    "ExecuteTime": {
     "end_time": "2021-10-12T17:39:02.486795Z",
     "start_time": "2021-10-12T17:39:02.482330Z"
    }
   },
   "outputs": [],
   "source": [
    "mae(train_y_arr, a2fpred_train_y_arr)"
   ]
  },
  {
   "cell_type": "code",
   "execution_count": null,
   "metadata": {
    "ExecuteTime": {
     "end_time": "2021-10-12T17:39:02.494234Z",
     "start_time": "2021-10-12T17:39:02.488778Z"
    }
   },
   "outputs": [],
   "source": [
    "mae(train_y_arr, gaussian_aripred_train_y_arr)"
   ]
  },
  {
   "cell_type": "code",
   "execution_count": null,
   "metadata": {
    "ExecuteTime": {
     "end_time": "2021-10-12T17:39:02.501674Z",
     "start_time": "2021-10-12T17:39:02.496714Z"
    }
   },
   "outputs": [],
   "source": [
    "mae(train_y_arr, tps_aripred_train_y_arr)"
   ]
  },
  {
   "cell_type": "code",
   "execution_count": null,
   "metadata": {},
   "outputs": [],
   "source": []
  },
  {
   "cell_type": "code",
   "execution_count": null,
   "metadata": {
    "ExecuteTime": {
     "end_time": "2021-10-12T17:40:41.711734Z",
     "start_time": "2021-10-12T17:40:41.702310Z"
    }
   },
   "outputs": [],
   "source": [
    "pred_train_df = pd.DataFrame(np.vstack([\n",
    "    train_y_arr,\n",
    "    a2fpred_train_y_arr,\n",
    "    gaussian_aripred_train_y_arr,\n",
    "    tps_aripred_train_y_arr\n",
    "]).T, columns=['train_y', 'a2fpred_train_y', 'gaussian_aripred_train_y', 'tps_aripred_train_y'])\n",
    "pred_train_df"
   ]
  },
  {
   "cell_type": "code",
   "execution_count": null,
   "metadata": {
    "ExecuteTime": {
     "end_time": "2021-10-12T17:40:42.405009Z",
     "start_time": "2021-10-12T17:40:42.390129Z"
    }
   },
   "outputs": [],
   "source": [
    "pred_train_df.describe()"
   ]
  },
  {
   "cell_type": "code",
   "execution_count": null,
   "metadata": {},
   "outputs": [],
   "source": []
  },
  {
   "cell_type": "code",
   "execution_count": null,
   "metadata": {},
   "outputs": [],
   "source": []
  },
  {
   "cell_type": "code",
   "execution_count": null,
   "metadata": {
    "ExecuteTime": {
     "end_time": "2021-10-12T17:40:43.085271Z",
     "start_time": "2021-10-12T17:40:43.078824Z"
    }
   },
   "outputs": [],
   "source": [
    "(pred_train_df['gaussian_aripred_train_y']/pred_train_df['train_y']).describe()"
   ]
  },
  {
   "cell_type": "code",
   "execution_count": null,
   "metadata": {
    "ExecuteTime": {
     "end_time": "2021-10-12T17:40:43.586211Z",
     "start_time": "2021-10-12T17:40:43.579763Z"
    }
   },
   "outputs": [],
   "source": [
    "(pred_train_df['gaussian_aripred_train_y'] - pred_train_df['train_y']).describe()"
   ]
  },
  {
   "cell_type": "code",
   "execution_count": null,
   "metadata": {
    "ExecuteTime": {
     "end_time": "2021-10-12T17:40:43.646227Z",
     "start_time": "2021-10-12T17:40:43.639283Z"
    }
   },
   "outputs": [],
   "source": [
    "abs(pred_train_df['gaussian_aripred_train_y'] - pred_train_df['train_y']).describe()"
   ]
  },
  {
   "cell_type": "code",
   "execution_count": null,
   "metadata": {},
   "outputs": [],
   "source": []
  },
  {
   "cell_type": "code",
   "execution_count": null,
   "metadata": {
    "ExecuteTime": {
     "end_time": "2021-10-12T17:40:43.757331Z",
     "start_time": "2021-10-12T17:40:43.751379Z"
    }
   },
   "outputs": [],
   "source": [
    "(pred_train_df['tps_aripred_train_y']/pred_train_df['train_y']).describe()"
   ]
  },
  {
   "cell_type": "code",
   "execution_count": null,
   "metadata": {
    "ExecuteTime": {
     "end_time": "2021-10-12T17:40:43.816355Z",
     "start_time": "2021-10-12T17:40:43.810403Z"
    }
   },
   "outputs": [],
   "source": [
    "(pred_train_df['tps_aripred_train_y'] - pred_train_df['train_y']).describe()"
   ]
  },
  {
   "cell_type": "code",
   "execution_count": null,
   "metadata": {
    "ExecuteTime": {
     "end_time": "2021-10-12T17:40:43.876370Z",
     "start_time": "2021-10-12T17:40:43.869991Z"
    }
   },
   "outputs": [],
   "source": [
    "abs(pred_train_df['tps_aripred_train_y'] - pred_train_df['train_y']).describe()"
   ]
  },
  {
   "cell_type": "code",
   "execution_count": null,
   "metadata": {},
   "outputs": [],
   "source": []
  },
  {
   "cell_type": "code",
   "execution_count": null,
   "metadata": {},
   "outputs": [],
   "source": []
  },
  {
   "cell_type": "markdown",
   "metadata": {},
   "source": [
    "## test"
   ]
  },
  {
   "cell_type": "code",
   "execution_count": null,
   "metadata": {
    "ExecuteTime": {
     "end_time": "2021-10-12T17:40:46.971508Z",
     "start_time": "2021-10-12T17:40:46.966548Z"
    }
   },
   "outputs": [],
   "source": [
    "mae(test_y_arr, a2fpred_test_y_arr)"
   ]
  },
  {
   "cell_type": "code",
   "execution_count": null,
   "metadata": {
    "ExecuteTime": {
     "end_time": "2021-10-12T17:40:47.206492Z",
     "start_time": "2021-10-12T17:40:47.202524Z"
    }
   },
   "outputs": [],
   "source": [
    "mae(test_y_arr, gaussian_aripred_test_y_arr)"
   ]
  },
  {
   "cell_type": "code",
   "execution_count": null,
   "metadata": {
    "ExecuteTime": {
     "end_time": "2021-10-12T17:40:47.395272Z",
     "start_time": "2021-10-12T17:40:47.390808Z"
    }
   },
   "outputs": [],
   "source": [
    "mae(test_y_arr, tps_aripred_test_y_arr)"
   ]
  },
  {
   "cell_type": "code",
   "execution_count": null,
   "metadata": {},
   "outputs": [],
   "source": []
  },
  {
   "cell_type": "code",
   "execution_count": null,
   "metadata": {
    "ExecuteTime": {
     "end_time": "2021-10-12T17:40:47.819343Z",
     "start_time": "2021-10-12T17:40:47.808431Z"
    }
   },
   "outputs": [],
   "source": [
    "pred_test_df = pd.DataFrame(np.vstack([\n",
    "    test_y_arr,\n",
    "    a2fpred_test_y_arr,\n",
    "    gaussian_aripred_test_y_arr,\n",
    "    tps_aripred_test_y_arr\n",
    "]).T, columns=['test_y', 'a2fpred_test_y', 'gaussian_aripred_test_y', 'tps_aripred_test_y'])\n",
    "pred_test_df"
   ]
  },
  {
   "cell_type": "code",
   "execution_count": null,
   "metadata": {
    "ExecuteTime": {
     "end_time": "2021-10-12T17:40:48.119719Z",
     "start_time": "2021-10-12T17:40:48.102359Z"
    }
   },
   "outputs": [],
   "source": [
    "pred_test_df.describe()"
   ]
  },
  {
   "cell_type": "code",
   "execution_count": null,
   "metadata": {},
   "outputs": [],
   "source": []
  },
  {
   "cell_type": "code",
   "execution_count": null,
   "metadata": {},
   "outputs": [],
   "source": []
  },
  {
   "cell_type": "code",
   "execution_count": null,
   "metadata": {
    "ExecuteTime": {
     "end_time": "2021-10-12T17:40:49.196785Z",
     "start_time": "2021-10-12T17:40:49.189841Z"
    }
   },
   "outputs": [],
   "source": [
    "(pred_test_df['gaussian_aripred_test_y']/pred_test_df['test_y']).describe()"
   ]
  },
  {
   "cell_type": "code",
   "execution_count": null,
   "metadata": {
    "ExecuteTime": {
     "end_time": "2021-10-12T17:40:49.460614Z",
     "start_time": "2021-10-12T17:40:49.453670Z"
    }
   },
   "outputs": [],
   "source": [
    "(pred_test_df['gaussian_aripred_test_y'] - pred_test_df['test_y']).describe()"
   ]
  },
  {
   "cell_type": "code",
   "execution_count": null,
   "metadata": {
    "ExecuteTime": {
     "end_time": "2021-10-12T17:40:49.708939Z",
     "start_time": "2021-10-12T17:40:49.702490Z"
    }
   },
   "outputs": [],
   "source": [
    "abs(pred_test_df['gaussian_aripred_test_y'] - pred_test_df['test_y']).describe()"
   ]
  },
  {
   "cell_type": "code",
   "execution_count": null,
   "metadata": {},
   "outputs": [],
   "source": []
  },
  {
   "cell_type": "code",
   "execution_count": null,
   "metadata": {
    "ExecuteTime": {
     "end_time": "2021-10-12T17:40:50.222637Z",
     "start_time": "2021-10-12T17:40:50.216189Z"
    }
   },
   "outputs": [],
   "source": [
    "(pred_test_df['tps_aripred_test_y']/pred_test_df['test_y']).describe()"
   ]
  },
  {
   "cell_type": "code",
   "execution_count": null,
   "metadata": {
    "ExecuteTime": {
     "end_time": "2021-10-12T17:40:50.469680Z",
     "start_time": "2021-10-12T17:40:50.463156Z"
    }
   },
   "outputs": [],
   "source": [
    "(pred_test_df['tps_aripred_test_y'] - pred_test_df['test_y']).describe()"
   ]
  },
  {
   "cell_type": "code",
   "execution_count": null,
   "metadata": {
    "ExecuteTime": {
     "end_time": "2021-10-12T17:40:50.813766Z",
     "start_time": "2021-10-12T17:40:50.806326Z"
    }
   },
   "outputs": [],
   "source": [
    "abs(pred_test_df['tps_aripred_test_y'] - pred_test_df['test_y']).describe()"
   ]
  },
  {
   "cell_type": "code",
   "execution_count": null,
   "metadata": {},
   "outputs": [],
   "source": []
  },
  {
   "cell_type": "code",
   "execution_count": null,
   "metadata": {},
   "outputs": [],
   "source": []
  },
  {
   "cell_type": "markdown",
   "metadata": {},
   "source": [
    "## matome"
   ]
  },
  {
   "cell_type": "code",
   "execution_count": null,
   "metadata": {
    "ExecuteTime": {
     "end_time": "2021-10-12T17:40:52.186320Z",
     "start_time": "2021-10-12T17:40:52.182352Z"
    }
   },
   "outputs": [],
   "source": [
    "pred_train_df.columns.tolist()"
   ]
  },
  {
   "cell_type": "code",
   "execution_count": null,
   "metadata": {},
   "outputs": [],
   "source": []
  },
  {
   "cell_type": "code",
   "execution_count": null,
   "metadata": {
    "ExecuteTime": {
     "end_time": "2021-10-12T17:40:55.905769Z",
     "start_time": "2021-10-12T17:40:55.894857Z"
    }
   },
   "outputs": [],
   "source": [
    "matome_valid = pd.DataFrame([\n",
    "    ['a2f', 'train', mae(pred_train_df['train_y'], pred_train_df['a2fpred_train_y'])],\n",
    "    ['a2f', 'test', mae(pred_test_df['test_y'], pred_test_df['a2fpred_test_y'])],\n",
    "    ['gaussian_ari', 'train', mae(pred_train_df['train_y'], pred_train_df['gaussian_aripred_train_y'])],\n",
    "    ['gaussian_ari', 'test', mae(pred_test_df['test_y'], pred_test_df['gaussian_aripred_test_y'])],\n",
    "    ['tps_ari', 'train', mae(pred_train_df['train_y'], pred_train_df['tps_aripred_train_y'])],\n",
    "    ['tps_ari', 'test', mae(pred_test_df['test_y'], pred_test_df['tps_aripred_test_y'])]\n",
    "], columns=['method', 'train_test', 'mae'])\n",
    "matome_valid"
   ]
  },
  {
   "cell_type": "code",
   "execution_count": null,
   "metadata": {},
   "outputs": [],
   "source": []
  },
  {
   "cell_type": "markdown",
   "metadata": {},
   "source": [
    "# 2D sample フィッティング予実可視化"
   ]
  },
  {
   "cell_type": "markdown",
   "metadata": {},
   "source": [
    "## 2d function"
   ]
  },
  {
   "cell_type": "markdown",
   "metadata": {},
   "source": [
    "### train"
   ]
  },
  {
   "cell_type": "code",
   "execution_count": null,
   "metadata": {
    "ExecuteTime": {
     "end_time": "2021-10-12T17:41:09.241813Z",
     "start_time": "2021-10-12T17:41:09.237845Z"
    },
    "scrolled": true
   },
   "outputs": [],
   "source": [
    "a2fpred_train_Y = a2fpred_train_y_arr.reshape([train_n_sample_grid, train_n_sample_grid])\n",
    "a2fpred_train_Y.shape"
   ]
  },
  {
   "cell_type": "code",
   "execution_count": null,
   "metadata": {
    "ExecuteTime": {
     "end_time": "2021-10-12T17:41:20.360493Z",
     "start_time": "2021-10-12T17:41:20.182430Z"
    }
   },
   "outputs": [],
   "source": [
    "# Figureと3DAxeS\n",
    "fig = plt.figure(figsize=(12, 12))\n",
    "ax = fig.add_subplot(111, projection='3d')\n",
    "\n",
    "ax.set_title('2d approximation train data', size=15)\n",
    "\n",
    "# 軸ラベルを設定\n",
    "ax.set_xlabel('train_x1', size=16)\n",
    "ax.set_ylabel('train_x2', size=16)\n",
    "ax.set_zlabel('pred_train_y', size=16)\n",
    "\n",
    "# 曲面を描画\n",
    "ax.plot_surface(train_X1, train_X2, a2fpred_train_Y, cmap='jet')\n",
    "\n",
    "# 底面に等高線を描画\n",
    "ax.contour(train_X1, train_X2, a2fpred_train_Y, colors='black', offset=-1)\n",
    "\n",
    "plt.show()"
   ]
  },
  {
   "cell_type": "code",
   "execution_count": null,
   "metadata": {},
   "outputs": [],
   "source": []
  },
  {
   "cell_type": "markdown",
   "metadata": {},
   "source": [
    "### test"
   ]
  },
  {
   "cell_type": "code",
   "execution_count": null,
   "metadata": {
    "ExecuteTime": {
     "end_time": "2021-10-12T17:41:26.914783Z",
     "start_time": "2021-10-12T17:41:26.911312Z"
    },
    "scrolled": true
   },
   "outputs": [],
   "source": [
    "a2fpred_test_Y = a2fpred_test_y_arr.reshape([test_n_sample_grid, test_n_sample_grid])\n",
    "a2fpred_test_Y.shape"
   ]
  },
  {
   "cell_type": "code",
   "execution_count": null,
   "metadata": {
    "ExecuteTime": {
     "end_time": "2021-10-12T17:41:33.097829Z",
     "start_time": "2021-10-12T17:41:32.717894Z"
    }
   },
   "outputs": [],
   "source": [
    "# Figureと3DAxeS\n",
    "fig = plt.figure(figsize=(12, 12))\n",
    "ax = fig.add_subplot(111, projection='3d')\n",
    "\n",
    "ax.set_title('2d approximation test data', size=15)\n",
    "\n",
    "# 軸ラベルを設定\n",
    "ax.set_xlabel('test_x1', size=16)\n",
    "ax.set_ylabel('test_x2', size=16)\n",
    "ax.set_zlabel('pred_test_y', size=16)\n",
    "\n",
    "# 曲面を描画\n",
    "ax.plot_surface(test_X1, test_X2, a2fpred_test_Y, cmap='jet')\n",
    "\n",
    "# 底面に等高線を描画\n",
    "ax.contour(test_X1, test_X2, a2fpred_test_Y, colors='black', offset=-1)\n",
    "\n",
    "plt.show()"
   ]
  },
  {
   "cell_type": "code",
   "execution_count": null,
   "metadata": {},
   "outputs": [],
   "source": []
  },
  {
   "cell_type": "markdown",
   "metadata": {},
   "source": [
    "### 曲面の全容が見たい"
   ]
  },
  {
   "cell_type": "code",
   "execution_count": null,
   "metadata": {
    "ExecuteTime": {
     "end_time": "2021-10-12T17:41:43.787041Z",
     "start_time": "2021-10-12T17:41:42.238035Z"
    }
   },
   "outputs": [],
   "source": [
    "a2fpred_long_y_arr = a2f_reg.predict(long_x_arr)\n",
    "a2fpred_long_Y = a2fpred_long_y_arr.reshape([long_n_sample_grid, long_n_sample_grid])"
   ]
  },
  {
   "cell_type": "code",
   "execution_count": null,
   "metadata": {
    "ExecuteTime": {
     "end_time": "2021-10-12T17:41:44.191778Z",
     "start_time": "2021-10-12T17:41:43.790017Z"
    }
   },
   "outputs": [],
   "source": [
    "# Figureと3DAxeS\n",
    "fig = plt.figure(figsize=(12, 12))\n",
    "ax = fig.add_subplot(111, projection='3d')\n",
    "\n",
    "ax.set_title('2d approximation long data', size=15)\n",
    "\n",
    "# 軸ラベルを設定\n",
    "ax.set_xlabel('long_x1', size=16)\n",
    "ax.set_ylabel('long_x2', size=16)\n",
    "ax.set_zlabel('pred_long_y', size=16)\n",
    "\n",
    "# 曲面を描画\n",
    "ax.plot_surface(long_X1, long_X2, a2fpred_long_Y, cmap='jet')\n",
    "\n",
    "# 底面に等高線を描画\n",
    "ax.contour(long_X1, long_X2, a2fpred_long_Y, colors='black', offset=-1)\n",
    "\n",
    "plt.show()"
   ]
  },
  {
   "cell_type": "code",
   "execution_count": null,
   "metadata": {},
   "outputs": [],
   "source": []
  },
  {
   "cell_type": "markdown",
   "metadata": {},
   "source": [
    "### 並べてみる"
   ]
  },
  {
   "cell_type": "code",
   "execution_count": null,
   "metadata": {
    "ExecuteTime": {
     "end_time": "2021-10-12T17:42:43.802026Z",
     "start_time": "2021-10-12T17:42:40.680206Z"
    }
   },
   "outputs": [],
   "source": [
    "n_fig_cols = 3\n",
    "n_fig_rows = 2\n",
    "width = 12\n",
    "height = 9\n",
    "title_size = 25\n",
    "\n",
    "# width, height\n",
    "fig = plt.figure(\n",
    "    figsize=(n_fig_cols*width, n_fig_rows*height),\n",
    "    facecolor='white',\n",
    "    dpi=200\n",
    ")\n",
    "\n",
    "# 余白を設定\n",
    "plt.subplots_adjust(wspace=0.05, hspace=0.1, left=0.05, right=0.95, bottom=0.05, top=0.95)\n",
    "\n",
    "\n",
    "\n",
    "# --------------------------------------------------------------------------------\n",
    "# train\n",
    "# --------------------------------------------------------------------------------\n",
    "\n",
    "# Figureと3DAxeS\n",
    "ax = fig.add_subplot(n_fig_rows, n_fig_cols, 1, projection='3d')\n",
    "\n",
    "ax.set_title('2D sample train', size=title_size)\n",
    "\n",
    "# 軸ラベルを設定\n",
    "ax.set_xlabel('x1', size = 16)\n",
    "ax.set_ylabel('x2', size = 16)\n",
    "ax.set_zlabel('train_y', size = 16)\n",
    "\n",
    "# 曲面を描画\n",
    "ax.plot_surface(train_X1, train_X2, train_Y, cmap='jet')\n",
    "\n",
    "# 底面に等高線を描画\n",
    "ax.contour(train_X1, train_X2, train_Y, colors = 'black', offset = -1)\n",
    "\n",
    "\n",
    "# --------------------------------------------------------------------------------\n",
    "# test\n",
    "# --------------------------------------------------------------------------------\n",
    "\n",
    "# Figureと3DAxeS\n",
    "ax = fig.add_subplot(n_fig_rows, n_fig_cols, 2, projection='3d')\n",
    "\n",
    "ax.set_title('2D sample test', size=title_size)\n",
    "\n",
    "# 軸ラベルを設定\n",
    "ax.set_xlabel('x1', size = 16)\n",
    "ax.set_ylabel('x2', size = 16)\n",
    "ax.set_zlabel('test_y', size = 16)\n",
    "\n",
    "# 曲面を描画\n",
    "ax.plot_surface(test_X1, test_X2, test_Y, cmap='jet')\n",
    "\n",
    "# 底面に等高線を描画\n",
    "ax.contour(test_X1, test_X2, test_Y, colors = 'black', offset = -1)\n",
    "\n",
    "\n",
    "# --------------------------------------------------------------------------------\n",
    "# wide\n",
    "# --------------------------------------------------------------------------------\n",
    "\n",
    "# Figureと3DAxeS\n",
    "ax = fig.add_subplot(n_fig_rows, n_fig_cols, 3, projection='3d')\n",
    "\n",
    "ax.set_title('2D sample wide', size=title_size)\n",
    "\n",
    "# 軸ラベルを設定\n",
    "ax.set_xlabel('x1', size = 16)\n",
    "ax.set_ylabel('x2', size = 16)\n",
    "ax.set_zlabel('wide_y', size = 16)\n",
    "\n",
    "# 曲面を描画\n",
    "ax.plot_surface(long_X1, long_X2, long_Y, cmap='jet')\n",
    "\n",
    "# 底面に等高線を描画\n",
    "ax.contour(long_X1, long_X2, long_Y, colors = 'black', offset = -1)\n",
    "\n",
    "\n",
    "# --------------------------------------------------------------------------------\n",
    "# train pred\n",
    "# --------------------------------------------------------------------------------\n",
    "\n",
    "# Figureと3DAxeS\n",
    "ax = fig.add_subplot(n_fig_rows, n_fig_cols, 4, projection='3d')\n",
    "\n",
    "ax.set_title('2d approximation predict train', size=title_size)\n",
    "\n",
    "# 軸ラベルを設定\n",
    "ax.set_xlabel('train_x1', size=16)\n",
    "ax.set_ylabel('train_x2', size=16)\n",
    "ax.set_zlabel('pred_train_y', size=16)\n",
    "\n",
    "# 曲面を描画\n",
    "ax.plot_surface(train_X1, train_X2, a2fpred_train_Y, cmap='jet')\n",
    "\n",
    "# 底面に等高線を描画\n",
    "ax.contour(train_X1, train_X2, a2fpred_train_Y, colors='black', offset=-1)\n",
    "\n",
    "\n",
    "# --------------------------------------------------------------------------------\n",
    "# test pred\n",
    "# --------------------------------------------------------------------------------\n",
    "\n",
    "# Figureと3DAxeS\n",
    "ax = fig.add_subplot(n_fig_rows, n_fig_cols, 5, projection='3d')\n",
    "\n",
    "ax.set_title('2d approximation predict test', size=title_size)\n",
    "\n",
    "# 軸ラベルを設定\n",
    "ax.set_xlabel('x1', size=16)\n",
    "ax.set_ylabel('x2', size=16)\n",
    "ax.set_zlabel('pred_test_y', size=16)\n",
    "\n",
    "# 曲面を描画\n",
    "ax.plot_surface(test_X1, test_X2, a2fpred_test_Y, cmap='jet')\n",
    "\n",
    "# 底面に等高線を描画\n",
    "ax.contour(test_X1, test_X2, a2fpred_test_Y, colors='black', offset=-1)\n",
    "\n",
    "\n",
    "# --------------------------------------------------------------------------------\n",
    "# wide pred\n",
    "# --------------------------------------------------------------------------------\n",
    "# longをwideとする\n",
    "\n",
    "# Figureと3DAxeS\n",
    "ax = fig.add_subplot(n_fig_rows, n_fig_cols, 6, projection='3d')\n",
    "\n",
    "ax.set_title('2d approximation predict widely', size=title_size)\n",
    "\n",
    "# 軸ラベルを設定\n",
    "ax.set_xlabel('x1', size=16)\n",
    "ax.set_ylabel('x2', size=16)\n",
    "ax.set_zlabel('pred_wide_y', size=16)\n",
    "\n",
    "# 曲面を描画\n",
    "ax.plot_surface(long_X1, long_X2, a2fpred_long_Y, cmap='jet')\n",
    "\n",
    "# 底面に等高線を描画\n",
    "ax.contour(long_X1, long_X2, a2fpred_long_Y, colors='black', offset=-1)\n",
    "\n",
    "plt.show()"
   ]
  },
  {
   "cell_type": "code",
   "execution_count": null,
   "metadata": {},
   "outputs": [],
   "source": []
  },
  {
   "cell_type": "markdown",
   "metadata": {},
   "source": [
    "## Gaussian RBF"
   ]
  },
  {
   "cell_type": "markdown",
   "metadata": {},
   "source": [
    "### train"
   ]
  },
  {
   "cell_type": "code",
   "execution_count": null,
   "metadata": {
    "ExecuteTime": {
     "end_time": "2021-10-12T17:43:49.738375Z",
     "start_time": "2021-10-12T17:43:49.734407Z"
    },
    "scrolled": true
   },
   "outputs": [],
   "source": [
    "gaussian_aripred_train_Y = gaussian_aripred_train_y_arr.reshape([train_n_sample_grid, train_n_sample_grid])\n",
    "gaussian_aripred_train_Y.shape"
   ]
  },
  {
   "cell_type": "code",
   "execution_count": null,
   "metadata": {
    "ExecuteTime": {
     "end_time": "2021-10-12T17:43:50.251908Z",
     "start_time": "2021-10-12T17:43:50.077813Z"
    }
   },
   "outputs": [],
   "source": [
    "# Figureと3DAxeS\n",
    "fig = plt.figure(figsize=(12, 12))\n",
    "ax = fig.add_subplot(111, projection='3d')\n",
    "\n",
    "ax.set_title('Gaussian RBF approximation train data', size=15)\n",
    "\n",
    "# 軸ラベルを設定\n",
    "ax.set_xlabel('train_x1', size=16)\n",
    "ax.set_ylabel('train_x2', size=16)\n",
    "ax.set_zlabel('pred_train_y', size=16)\n",
    "\n",
    "# 曲面を描画\n",
    "ax.plot_surface(train_X1, train_X2, gaussian_aripred_train_Y, cmap='jet')\n",
    "\n",
    "# 底面に等高線を描画\n",
    "ax.contour(train_X1, train_X2, gaussian_aripred_train_Y, colors='black', offset=-1)\n",
    "\n",
    "plt.show()"
   ]
  },
  {
   "cell_type": "code",
   "execution_count": null,
   "metadata": {},
   "outputs": [],
   "source": []
  },
  {
   "cell_type": "markdown",
   "metadata": {},
   "source": [
    "### test"
   ]
  },
  {
   "cell_type": "code",
   "execution_count": null,
   "metadata": {
    "ExecuteTime": {
     "end_time": "2021-10-12T17:43:51.962173Z",
     "start_time": "2021-10-12T17:43:51.957709Z"
    },
    "scrolled": true
   },
   "outputs": [],
   "source": [
    "gaussian_aripred_test_Y = gaussian_aripred_test_y_arr.reshape([test_n_sample_grid, test_n_sample_grid])\n",
    "gaussian_aripred_test_Y.shape"
   ]
  },
  {
   "cell_type": "code",
   "execution_count": null,
   "metadata": {
    "ExecuteTime": {
     "end_time": "2021-10-12T17:43:54.252818Z",
     "start_time": "2021-10-12T17:43:53.925955Z"
    }
   },
   "outputs": [],
   "source": [
    "# Figureと3DAxeS\n",
    "fig = plt.figure(figsize=(12, 12))\n",
    "ax = fig.add_subplot(111, projection='3d')\n",
    "\n",
    "ax.set_title('Gaussian RBF approximation test data', size=15)\n",
    "\n",
    "# 軸ラベルを設定\n",
    "ax.set_xlabel('test_x1', size=16)\n",
    "ax.set_ylabel('test_x2', size=16)\n",
    "ax.set_zlabel('pred_test_y', size=16)\n",
    "\n",
    "# 曲面を描画\n",
    "ax.plot_surface(test_X1, test_X2, gaussian_aripred_test_Y, cmap='jet')\n",
    "\n",
    "# 底面に等高線を描画\n",
    "ax.contour(test_X1, test_X2, gaussian_aripred_test_Y, colors='black', offset=-1)\n",
    "\n",
    "plt.show()"
   ]
  },
  {
   "cell_type": "code",
   "execution_count": null,
   "metadata": {},
   "outputs": [],
   "source": []
  },
  {
   "cell_type": "markdown",
   "metadata": {},
   "source": [
    "### 曲面の全容が見たい"
   ]
  },
  {
   "cell_type": "code",
   "execution_count": null,
   "metadata": {
    "ExecuteTime": {
     "end_time": "2021-10-12T17:44:15.813356Z",
     "start_time": "2021-10-12T17:44:03.894485Z"
    }
   },
   "outputs": [],
   "source": [
    "gaussian_aripred_long_y_arr = gaussian_ari_reg.predict(long_x_arr)\n",
    "gaussian_aripred_long_Y = gaussian_aripred_long_y_arr.reshape([long_n_sample_grid, long_n_sample_grid])"
   ]
  },
  {
   "cell_type": "code",
   "execution_count": null,
   "metadata": {
    "ExecuteTime": {
     "end_time": "2021-10-12T17:44:16.217096Z",
     "start_time": "2021-10-12T17:44:15.814842Z"
    }
   },
   "outputs": [],
   "source": [
    "# Figureと3DAxeS\n",
    "fig = plt.figure(figsize=(12, 12))\n",
    "ax = fig.add_subplot(111, projection='3d')\n",
    "\n",
    "ax.set_title('Gaussian RBF approximation long data', size=15)\n",
    "\n",
    "# 軸ラベルを設定\n",
    "ax.set_xlabel('long_x1', size=16)\n",
    "ax.set_ylabel('long_x2', size=16)\n",
    "ax.set_zlabel('gaussian_aripred_long_y', size=16)\n",
    "\n",
    "# 曲面を描画\n",
    "ax.plot_surface(long_X1, long_X2, gaussian_aripred_long_Y, cmap='jet')\n",
    "\n",
    "# 底面に等高線を描画\n",
    "ax.contour(long_X1, long_X2, gaussian_aripred_long_Y, colors='black', offset=-1)\n",
    "\n",
    "plt.show()"
   ]
  },
  {
   "cell_type": "code",
   "execution_count": null,
   "metadata": {},
   "outputs": [],
   "source": []
  },
  {
   "cell_type": "markdown",
   "metadata": {},
   "source": [
    "### 並べてみる"
   ]
  },
  {
   "cell_type": "code",
   "execution_count": null,
   "metadata": {
    "ExecuteTime": {
     "end_time": "2021-10-12T17:44:52.141230Z",
     "start_time": "2021-10-12T17:44:48.888466Z"
    }
   },
   "outputs": [],
   "source": [
    "n_fig_cols = 3\n",
    "n_fig_rows = 2\n",
    "width = 12\n",
    "height = 9\n",
    "title_size = 25\n",
    "\n",
    "# width, height\n",
    "fig = plt.figure(\n",
    "    figsize=(n_fig_cols*width, n_fig_rows*height),\n",
    "    facecolor='white',\n",
    "    dpi=200\n",
    ")\n",
    "\n",
    "# 余白を設定\n",
    "plt.subplots_adjust(wspace=0.05, hspace=0.1, left=0.05, right=0.95, bottom=0.05, top=0.95)\n",
    "\n",
    "\n",
    "\n",
    "# --------------------------------------------------------------------------------\n",
    "# train\n",
    "# --------------------------------------------------------------------------------\n",
    "\n",
    "# Figureと3DAxeS\n",
    "ax = fig.add_subplot(n_fig_rows, n_fig_cols, 1, projection='3d')\n",
    "\n",
    "ax.set_title('2D sample train', size=title_size)\n",
    "\n",
    "# 軸ラベルを設定\n",
    "ax.set_xlabel('x1', size = 16)\n",
    "ax.set_ylabel('x2', size = 16)\n",
    "ax.set_zlabel('train_y', size = 16)\n",
    "\n",
    "# 曲面を描画\n",
    "ax.plot_surface(train_X1, train_X2, train_Y, cmap='jet')\n",
    "\n",
    "# 底面に等高線を描画\n",
    "ax.contour(train_X1, train_X2, train_Y, colors = 'black', offset = -1)\n",
    "\n",
    "\n",
    "# --------------------------------------------------------------------------------\n",
    "# test\n",
    "# --------------------------------------------------------------------------------\n",
    "\n",
    "# Figureと3DAxeS\n",
    "ax = fig.add_subplot(n_fig_rows, n_fig_cols, 2, projection='3d')\n",
    "\n",
    "ax.set_title('2D sample test', size=title_size)\n",
    "\n",
    "# 軸ラベルを設定\n",
    "ax.set_xlabel('x1', size = 16)\n",
    "ax.set_ylabel('x2', size = 16)\n",
    "ax.set_zlabel('test_y', size = 16)\n",
    "\n",
    "# 曲面を描画\n",
    "ax.plot_surface(test_X1, test_X2, test_Y, cmap='jet')\n",
    "\n",
    "# 底面に等高線を描画\n",
    "ax.contour(test_X1, test_X2, test_Y, colors = 'black', offset = -1)\n",
    "\n",
    "\n",
    "# --------------------------------------------------------------------------------\n",
    "# wide\n",
    "# --------------------------------------------------------------------------------\n",
    "\n",
    "# Figureと3DAxeS\n",
    "ax = fig.add_subplot(n_fig_rows, n_fig_cols, 3, projection='3d')\n",
    "\n",
    "ax.set_title('2D sample wide', size=title_size)\n",
    "\n",
    "# 軸ラベルを設定\n",
    "ax.set_xlabel('x1', size = 16)\n",
    "ax.set_ylabel('x2', size = 16)\n",
    "ax.set_zlabel('wide_y', size = 16)\n",
    "\n",
    "# 曲面を描画\n",
    "ax.plot_surface(long_X1, long_X2, long_Y, cmap='jet')\n",
    "\n",
    "# 底面に等高線を描画\n",
    "ax.contour(long_X1, long_X2, long_Y, colors = 'black', offset = -1)\n",
    "\n",
    "\n",
    "# --------------------------------------------------------------------------------\n",
    "# train pred\n",
    "# --------------------------------------------------------------------------------\n",
    "\n",
    "# Figureと3DAxeS\n",
    "ax = fig.add_subplot(n_fig_rows, n_fig_cols, 4, projection='3d')\n",
    "\n",
    "ax.set_title('Gaussian RBF approximation predict train', size=title_size)\n",
    "\n",
    "# 軸ラベルを設定\n",
    "ax.set_xlabel('train_x1', size=16)\n",
    "ax.set_ylabel('train_x2', size=16)\n",
    "ax.set_zlabel('pred_train_y', size=16)\n",
    "\n",
    "# 曲面を描画\n",
    "ax.plot_surface(train_X1, train_X2, gaussian_aripred_train_Y, cmap='jet')\n",
    "\n",
    "# 底面に等高線を描画\n",
    "ax.contour(train_X1, train_X2, gaussian_aripred_train_Y, colors='black', offset=-1)\n",
    "\n",
    "\n",
    "# --------------------------------------------------------------------------------\n",
    "# test pred\n",
    "# --------------------------------------------------------------------------------\n",
    "\n",
    "# Figureと3DAxeS\n",
    "ax = fig.add_subplot(n_fig_rows, n_fig_cols, 5, projection='3d')\n",
    "\n",
    "ax.set_title('Gaussian RBF approximation predict test', size=title_size)\n",
    "\n",
    "# 軸ラベルを設定\n",
    "ax.set_xlabel('x1', size=16)\n",
    "ax.set_ylabel('x2', size=16)\n",
    "ax.set_zlabel('pred_test_y', size=16)\n",
    "\n",
    "# 曲面を描画\n",
    "ax.plot_surface(test_X1, test_X2, gaussian_aripred_test_Y, cmap='jet')\n",
    "\n",
    "# 底面に等高線を描画\n",
    "ax.contour(test_X1, test_X2, gaussian_aripred_test_Y, colors='black', offset=-1)\n",
    "\n",
    "\n",
    "# --------------------------------------------------------------------------------\n",
    "# wide pred\n",
    "# --------------------------------------------------------------------------------\n",
    "# longをwideとする\n",
    "\n",
    "# Figureと3DAxeS\n",
    "ax = fig.add_subplot(n_fig_rows, n_fig_cols, 6, projection='3d')\n",
    "\n",
    "ax.set_title('Gaussian RBF approximation predict widely', size=title_size)\n",
    "\n",
    "# 軸ラベルを設定\n",
    "ax.set_xlabel('x1', size=16)\n",
    "ax.set_ylabel('x2', size=16)\n",
    "ax.set_zlabel('pred_wide_y', size=16)\n",
    "\n",
    "# 曲面を描画\n",
    "ax.plot_surface(long_X1, long_X2, gaussian_aripred_long_Y, cmap='jet')\n",
    "\n",
    "# 底面に等高線を描画\n",
    "ax.contour(long_X1, long_X2, gaussian_aripred_long_Y, colors='black', offset=-1)\n",
    "\n",
    "plt.show()"
   ]
  },
  {
   "cell_type": "code",
   "execution_count": null,
   "metadata": {},
   "outputs": [],
   "source": []
  },
  {
   "cell_type": "markdown",
   "metadata": {},
   "source": [
    "## Thin Plate Spline RBF"
   ]
  },
  {
   "cell_type": "markdown",
   "metadata": {},
   "source": [
    "### train"
   ]
  },
  {
   "cell_type": "code",
   "execution_count": null,
   "metadata": {
    "ExecuteTime": {
     "end_time": "2021-10-12T17:44:56.021764Z",
     "start_time": "2021-10-12T17:44:56.017300Z"
    },
    "scrolled": true
   },
   "outputs": [],
   "source": [
    "tps_aripred_train_Y = tps_aripred_train_y_arr.reshape([train_n_sample_grid, train_n_sample_grid])\n",
    "tps_aripred_train_Y.shape"
   ]
  },
  {
   "cell_type": "code",
   "execution_count": null,
   "metadata": {
    "ExecuteTime": {
     "end_time": "2021-10-12T17:44:56.408147Z",
     "start_time": "2021-10-12T17:44:56.218676Z"
    }
   },
   "outputs": [],
   "source": [
    "# Figureと3DAxeS\n",
    "fig = plt.figure(figsize=(12, 12))\n",
    "ax = fig.add_subplot(111, projection='3d')\n",
    "\n",
    "ax.set_title('Thin Plate Spline RBF approximation train data', size=15)\n",
    "\n",
    "# 軸ラベルを設定\n",
    "ax.set_xlabel('train_x1', size=16)\n",
    "ax.set_ylabel('train_x2', size=16)\n",
    "ax.set_zlabel('pred_train_y', size=16)\n",
    "\n",
    "# 曲面を描画\n",
    "ax.plot_surface(train_X1, train_X2, tps_aripred_train_Y, cmap='jet')\n",
    "\n",
    "# 底面に等高線を描画\n",
    "ax.contour(train_X1, train_X2, tps_aripred_train_Y, colors='black', offset=-1)\n",
    "\n",
    "plt.show()"
   ]
  },
  {
   "cell_type": "code",
   "execution_count": null,
   "metadata": {},
   "outputs": [],
   "source": []
  },
  {
   "cell_type": "markdown",
   "metadata": {},
   "source": [
    "### test"
   ]
  },
  {
   "cell_type": "code",
   "execution_count": null,
   "metadata": {
    "ExecuteTime": {
     "end_time": "2021-10-12T17:45:00.051518Z",
     "start_time": "2021-10-12T17:45:00.047550Z"
    },
    "scrolled": true
   },
   "outputs": [],
   "source": [
    "tps_aripred_test_Y = tps_aripred_test_y_arr.reshape([test_n_sample_grid, test_n_sample_grid])\n",
    "tps_aripred_test_Y.shape"
   ]
  },
  {
   "cell_type": "code",
   "execution_count": null,
   "metadata": {
    "ExecuteTime": {
     "end_time": "2021-10-12T17:45:05.259469Z",
     "start_time": "2021-10-12T17:45:04.893917Z"
    }
   },
   "outputs": [],
   "source": [
    "# Figureと3DAxeS\n",
    "fig = plt.figure(figsize=(12, 12))\n",
    "ax = fig.add_subplot(111, projection='3d')\n",
    "\n",
    "ax.set_title('Thin Plate Spline RBF approximation test data', size=15)\n",
    "\n",
    "# 軸ラベルを設定\n",
    "ax.set_xlabel('test_x1', size=16)\n",
    "ax.set_ylabel('test_x2', size=16)\n",
    "ax.set_zlabel('pred_test_y', size=16)\n",
    "\n",
    "# 曲面を描画\n",
    "ax.plot_surface(test_X1, test_X2, tps_aripred_test_Y, cmap='jet')\n",
    "\n",
    "# 底面に等高線を描画\n",
    "ax.contour(test_X1, test_X2, tps_aripred_test_Y, colors='black', offset=-1)\n",
    "\n",
    "plt.show()"
   ]
  },
  {
   "cell_type": "code",
   "execution_count": null,
   "metadata": {},
   "outputs": [],
   "source": []
  },
  {
   "cell_type": "code",
   "execution_count": null,
   "metadata": {},
   "outputs": [],
   "source": []
  },
  {
   "cell_type": "markdown",
   "metadata": {},
   "source": [
    "### 曲面の全容が見たい"
   ]
  },
  {
   "cell_type": "code",
   "execution_count": null,
   "metadata": {
    "ExecuteTime": {
     "end_time": "2021-10-12T17:45:34.555196Z",
     "start_time": "2021-10-12T17:45:08.501910Z"
    }
   },
   "outputs": [],
   "source": [
    "tps_aripred_long_y_arr = tps_ari_reg.predict(long_x_arr)\n",
    "tps_aripred_long_Y = tps_aripred_long_y_arr.reshape([long_n_sample_grid, long_n_sample_grid])"
   ]
  },
  {
   "cell_type": "code",
   "execution_count": null,
   "metadata": {
    "ExecuteTime": {
     "end_time": "2021-10-12T17:45:34.906858Z",
     "start_time": "2021-10-12T17:45:34.556682Z"
    },
    "scrolled": true
   },
   "outputs": [],
   "source": [
    "# Figureと3DAxeS\n",
    "fig = plt.figure(figsize=(12, 12))\n",
    "ax = fig.add_subplot(111, projection='3d')\n",
    "\n",
    "ax.set_title('Thin Plate Spline RBF approximation long data', size=15)\n",
    "\n",
    "# 軸ラベルを設定\n",
    "ax.set_xlabel('long_x1', size=16)\n",
    "ax.set_ylabel('long_x2', size=16)\n",
    "ax.set_zlabel('tps_aripred_long_y', size=16)\n",
    "\n",
    "# 曲面を描画\n",
    "ax.plot_surface(long_X1, long_X2, tps_aripred_long_Y, cmap='jet')\n",
    "\n",
    "# 底面に等高線を描画\n",
    "ax.contour(long_X1, long_X2, tps_aripred_long_Y, colors='black', offset=-1)\n",
    "\n",
    "plt.show()"
   ]
  },
  {
   "cell_type": "code",
   "execution_count": null,
   "metadata": {},
   "outputs": [],
   "source": []
  },
  {
   "cell_type": "code",
   "execution_count": null,
   "metadata": {},
   "outputs": [],
   "source": []
  },
  {
   "cell_type": "markdown",
   "metadata": {},
   "source": [
    "### 並べてみる"
   ]
  },
  {
   "cell_type": "code",
   "execution_count": null,
   "metadata": {
    "ExecuteTime": {
     "end_time": "2021-10-12T17:45:38.147222Z",
     "start_time": "2021-10-12T17:45:34.908346Z"
    }
   },
   "outputs": [],
   "source": [
    "n_fig_cols = 3\n",
    "n_fig_rows = 2\n",
    "width = 12\n",
    "height = 9\n",
    "title_size = 25\n",
    "\n",
    "# width, height\n",
    "fig = plt.figure(\n",
    "    figsize=(n_fig_cols*width, n_fig_rows*height),\n",
    "    facecolor='white',\n",
    "    dpi=200\n",
    ")\n",
    "\n",
    "# 余白を設定\n",
    "plt.subplots_adjust(wspace=0.05, hspace=0.1, left=0.05, right=0.95, bottom=0.05, top=0.95)\n",
    "\n",
    "\n",
    "\n",
    "# --------------------------------------------------------------------------------\n",
    "# train\n",
    "# --------------------------------------------------------------------------------\n",
    "\n",
    "# Figureと3DAxeS\n",
    "ax = fig.add_subplot(n_fig_rows, n_fig_cols, 1, projection='3d')\n",
    "\n",
    "ax.set_title('2D sample train', size=title_size)\n",
    "\n",
    "# 軸ラベルを設定\n",
    "ax.set_xlabel('x1', size = 16)\n",
    "ax.set_ylabel('x2', size = 16)\n",
    "ax.set_zlabel('train_y', size = 16)\n",
    "\n",
    "# 曲面を描画\n",
    "ax.plot_surface(train_X1, train_X2, train_Y, cmap='jet')\n",
    "\n",
    "# 底面に等高線を描画\n",
    "ax.contour(train_X1, train_X2, train_Y, colors = 'black', offset = -1)\n",
    "\n",
    "\n",
    "# --------------------------------------------------------------------------------\n",
    "# test\n",
    "# --------------------------------------------------------------------------------\n",
    "\n",
    "# Figureと3DAxeS\n",
    "ax = fig.add_subplot(n_fig_rows, n_fig_cols, 2, projection='3d')\n",
    "\n",
    "ax.set_title('2D sample test', size=title_size)\n",
    "\n",
    "# 軸ラベルを設定\n",
    "ax.set_xlabel('x1', size = 16)\n",
    "ax.set_ylabel('x2', size = 16)\n",
    "ax.set_zlabel('test_y', size = 16)\n",
    "\n",
    "# 曲面を描画\n",
    "ax.plot_surface(test_X1, test_X2, test_Y, cmap='jet')\n",
    "\n",
    "# 底面に等高線を描画\n",
    "ax.contour(test_X1, test_X2, test_Y, colors = 'black', offset = -1)\n",
    "\n",
    "\n",
    "# --------------------------------------------------------------------------------\n",
    "# wide\n",
    "# --------------------------------------------------------------------------------\n",
    "\n",
    "# Figureと3DAxeS\n",
    "ax = fig.add_subplot(n_fig_rows, n_fig_cols, 3, projection='3d')\n",
    "\n",
    "ax.set_title('2D sample wide', size=title_size)\n",
    "\n",
    "# 軸ラベルを設定\n",
    "ax.set_xlabel('x1', size = 16)\n",
    "ax.set_ylabel('x2', size = 16)\n",
    "ax.set_zlabel('wide_y', size = 16)\n",
    "\n",
    "# 曲面を描画\n",
    "ax.plot_surface(long_X1, long_X2, long_Y, cmap='jet')\n",
    "\n",
    "# 底面に等高線を描画\n",
    "ax.contour(long_X1, long_X2, long_Y, colors = 'black', offset = -1)\n",
    "\n",
    "\n",
    "# --------------------------------------------------------------------------------\n",
    "# train pred\n",
    "# --------------------------------------------------------------------------------\n",
    "\n",
    "# Figureと3DAxeS\n",
    "ax = fig.add_subplot(n_fig_rows, n_fig_cols, 4, projection='3d')\n",
    "\n",
    "ax.set_title('Thin Plate Spline RBF approximation predict train', size=title_size)\n",
    "\n",
    "# 軸ラベルを設定\n",
    "ax.set_xlabel('train_x1', size=16)\n",
    "ax.set_ylabel('train_x2', size=16)\n",
    "ax.set_zlabel('pred_train_y', size=16)\n",
    "\n",
    "# 曲面を描画\n",
    "ax.plot_surface(train_X1, train_X2, tps_aripred_train_Y, cmap='jet')\n",
    "\n",
    "# 底面に等高線を描画\n",
    "ax.contour(train_X1, train_X2, tps_aripred_train_Y, colors='black', offset=-1)\n",
    "\n",
    "\n",
    "# --------------------------------------------------------------------------------\n",
    "# test pred\n",
    "# --------------------------------------------------------------------------------\n",
    "\n",
    "# Figureと3DAxeS\n",
    "ax = fig.add_subplot(n_fig_rows, n_fig_cols, 5, projection='3d')\n",
    "\n",
    "ax.set_title('Thin Plate Spline RBF approximation predict test', size=title_size)\n",
    "\n",
    "# 軸ラベルを設定\n",
    "ax.set_xlabel('x1', size=16)\n",
    "ax.set_ylabel('x2', size=16)\n",
    "ax.set_zlabel('pred_test_y', size=16)\n",
    "\n",
    "# 曲面を描画\n",
    "ax.plot_surface(test_X1, test_X2, tps_aripred_test_Y, cmap='jet')\n",
    "\n",
    "# 底面に等高線を描画\n",
    "ax.contour(test_X1, test_X2, tps_aripred_test_Y, colors='black', offset=-1)\n",
    "\n",
    "\n",
    "# --------------------------------------------------------------------------------\n",
    "# wide pred\n",
    "# --------------------------------------------------------------------------------\n",
    "# longをwideとする\n",
    "\n",
    "# Figureと3DAxeS\n",
    "ax = fig.add_subplot(n_fig_rows, n_fig_cols, 6, projection='3d')\n",
    "\n",
    "ax.set_title('Thin Plate Spline RBF approximation predict widely', size=title_size)\n",
    "\n",
    "# 軸ラベルを設定\n",
    "ax.set_xlabel('x1', size=16)\n",
    "ax.set_ylabel('x2', size=16)\n",
    "ax.set_zlabel('pred_wide_y', size=16)\n",
    "\n",
    "# 曲面を描画\n",
    "ax.plot_surface(long_X1, long_X2, tps_aripred_long_Y, cmap='jet')\n",
    "\n",
    "# 底面に等高線を描画\n",
    "ax.contour(long_X1, long_X2, tps_aripred_long_Y, colors='black', offset=-1)\n",
    "\n",
    "plt.show()"
   ]
  },
  {
   "cell_type": "code",
   "execution_count": null,
   "metadata": {},
   "outputs": [],
   "source": []
  },
  {
   "cell_type": "code",
   "execution_count": null,
   "metadata": {},
   "outputs": [],
   "source": []
  },
  {
   "cell_type": "markdown",
   "metadata": {},
   "source": [
    "# Optimization"
   ]
  },
  {
   "cell_type": "markdown",
   "metadata": {},
   "source": [
    "## Objective scipy.optimize"
   ]
  },
  {
   "cell_type": "code",
   "execution_count": null,
   "metadata": {
    "ExecuteTime": {
     "end_time": "2021-10-12T17:47:28.817928Z",
     "start_time": "2021-10-12T17:47:28.814456Z"
    }
   },
   "outputs": [],
   "source": [
    "def minus_reg(x_list, reg=None, n_divide=1):\n",
    "    \"\"\"\n",
    "    小さくしないとエラーが起きることがある\n",
    "    Massage: Positive directional derivative for linesearch\n",
    "    Remark: https://stackoverflow.com/questions/11155721/positive-directional-derivative-for-linesearch\n",
    "    \"\"\"\n",
    "    ret = reg.predict(np.array([x_list])) / n_divide\n",
    "    return - ret"
   ]
  },
  {
   "cell_type": "markdown",
   "metadata": {},
   "source": [
    "## 制約条件"
   ]
  },
  {
   "cell_type": "markdown",
   "metadata": {},
   "source": [
    "Constraint全般  \n",
    "https://qiita.com/imaizume/items/44896c8e1dd0bcbacdd5"
   ]
  },
  {
   "cell_type": "markdown",
   "metadata": {},
   "source": [
    "LinearConstraint(線形制約条件について)  \n",
    "https://qiita.com/shotoyoo/items/83297f959e1922465288"
   ]
  },
  {
   "cell_type": "code",
   "execution_count": null,
   "metadata": {
    "ExecuteTime": {
     "end_time": "2021-10-12T17:47:30.623858Z",
     "start_time": "2021-10-12T17:47:30.620883Z"
    }
   },
   "outputs": [],
   "source": [
    "x_bound = (-15, 15) # 0以上1以下\n",
    "x_bounds_list = [x_bound, x_bound]"
   ]
  },
  {
   "cell_type": "code",
   "execution_count": null,
   "metadata": {
    "ExecuteTime": {
     "end_time": "2021-10-12T17:47:32.737382Z",
     "start_time": "2021-10-12T17:47:32.733910Z"
    }
   },
   "outputs": [],
   "source": [
    "# 線形制約条件\n",
    "lc_A = np.array([np.ones(n_dim)])\n",
    "lb = np.array([-100]) # 下限\n",
    "ub = np.array([100]) # 上限\n",
    "\n",
    "cons = LinearConstraint(lc_A, lb, ub) # 総和がsum_ratioになる"
   ]
  },
  {
   "cell_type": "markdown",
   "metadata": {},
   "source": [
    "## 初期解"
   ]
  },
  {
   "cell_type": "code",
   "execution_count": null,
   "metadata": {
    "ExecuteTime": {
     "end_time": "2021-10-12T17:47:34.618163Z",
     "start_time": "2021-10-12T17:47:34.614195Z"
    }
   },
   "outputs": [],
   "source": [
    "init_x = np.zeros(n_dim)\n",
    "init_x"
   ]
  },
  {
   "cell_type": "markdown",
   "metadata": {},
   "source": [
    "## Optimization"
   ]
  },
  {
   "cell_type": "markdown",
   "metadata": {},
   "source": [
    "### 2d approximation"
   ]
  },
  {
   "cell_type": "code",
   "execution_count": null,
   "metadata": {
    "ExecuteTime": {
     "end_time": "2021-10-12T17:48:01.463262Z",
     "start_time": "2021-10-12T17:48:01.405230Z"
    }
   },
   "outputs": [],
   "source": [
    "a2f_opt_result = minimize(fun=(lambda x: minus_reg(x, reg=a2f_reg, n_divide=10)), x0=init_x, bounds=x_bounds_list, constraints=cons, method='SLSQP')\n",
    "a2f_opt_result"
   ]
  },
  {
   "cell_type": "code",
   "execution_count": null,
   "metadata": {
    "ExecuteTime": {
     "end_time": "2021-10-12T17:48:02.649447Z",
     "start_time": "2021-10-12T17:48:02.645479Z"
    }
   },
   "outputs": [],
   "source": [
    "a2f_opt_result.x"
   ]
  },
  {
   "cell_type": "code",
   "execution_count": null,
   "metadata": {
    "ExecuteTime": {
     "end_time": "2021-10-12T17:48:03.026156Z",
     "start_time": "2021-10-12T17:48:03.022187Z"
    }
   },
   "outputs": [],
   "source": [
    "a2f_pred_max = a2f_reg.predict([a2f_opt_result.x])\n",
    "a2f_pred_max"
   ]
  },
  {
   "cell_type": "markdown",
   "metadata": {},
   "source": [
    "#### 予測値のmax, 実際のmaxと比較する"
   ]
  },
  {
   "cell_type": "code",
   "execution_count": null,
   "metadata": {
    "ExecuteTime": {
     "end_time": "2021-10-12T17:48:03.930399Z",
     "start_time": "2021-10-12T17:48:03.925440Z"
    }
   },
   "outputs": [],
   "source": [
    "a2fpred_test_y_arr.max()"
   ]
  },
  {
   "cell_type": "code",
   "execution_count": null,
   "metadata": {
    "ExecuteTime": {
     "end_time": "2021-10-12T17:48:04.360823Z",
     "start_time": "2021-10-12T17:48:04.357351Z"
    }
   },
   "outputs": [],
   "source": [
    "test_y_arr.max()"
   ]
  },
  {
   "cell_type": "code",
   "execution_count": null,
   "metadata": {},
   "outputs": [],
   "source": []
  },
  {
   "cell_type": "markdown",
   "metadata": {},
   "source": [
    "### Gaussian RBF"
   ]
  },
  {
   "cell_type": "code",
   "execution_count": null,
   "metadata": {
    "ExecuteTime": {
     "end_time": "2021-10-12T17:48:05.501084Z",
     "start_time": "2021-10-12T17:48:05.469340Z"
    }
   },
   "outputs": [],
   "source": [
    "gaussian_ari_opt_result = minimize(fun=(lambda x: minus_reg(x, reg=gaussian_ari_reg, n_divide=10)), x0=init_x, bounds=x_bounds_list, constraints=cons, method='SLSQP')\n",
    "gaussian_ari_opt_result"
   ]
  },
  {
   "cell_type": "code",
   "execution_count": null,
   "metadata": {
    "ExecuteTime": {
     "end_time": "2021-10-12T17:48:05.898208Z",
     "start_time": "2021-10-12T17:48:05.893248Z"
    },
    "scrolled": true
   },
   "outputs": [],
   "source": [
    "gaussian_ari_opt_result.x"
   ]
  },
  {
   "cell_type": "code",
   "execution_count": null,
   "metadata": {
    "ExecuteTime": {
     "end_time": "2021-10-12T17:48:06.145835Z",
     "start_time": "2021-10-12T17:48:06.140876Z"
    }
   },
   "outputs": [],
   "source": [
    "gaussian_ari_pred_max = gaussian_ari_reg.predict([gaussian_ari_opt_result.x])\n",
    "gaussian_ari_pred_max"
   ]
  },
  {
   "cell_type": "code",
   "execution_count": null,
   "metadata": {
    "ExecuteTime": {
     "end_time": "2021-10-12T17:48:06.409057Z",
     "start_time": "2021-10-12T17:48:06.405089Z"
    }
   },
   "outputs": [],
   "source": [
    "gaussian_aripred_test_y_arr.max()"
   ]
  },
  {
   "cell_type": "markdown",
   "metadata": {},
   "source": [
    "### Thin Plate Spline RBF"
   ]
  },
  {
   "cell_type": "code",
   "execution_count": null,
   "metadata": {
    "ExecuteTime": {
     "end_time": "2021-10-12T17:48:08.046510Z",
     "start_time": "2021-10-12T17:48:07.997902Z"
    }
   },
   "outputs": [],
   "source": [
    "tps_ari_opt_result = minimize(fun=(lambda x: minus_reg(x, reg=tps_ari_reg, n_divide=10)), x0=init_x, bounds=x_bounds_list, constraints=cons, method='SLSQP')\n",
    "tps_ari_opt_result"
   ]
  },
  {
   "cell_type": "code",
   "execution_count": null,
   "metadata": {
    "ExecuteTime": {
     "end_time": "2021-10-12T17:48:08.241280Z",
     "start_time": "2021-10-12T17:48:08.237312Z"
    },
    "scrolled": true
   },
   "outputs": [],
   "source": [
    "tps_ari_opt_result.x"
   ]
  },
  {
   "cell_type": "code",
   "execution_count": null,
   "metadata": {
    "ExecuteTime": {
     "end_time": "2021-10-12T17:48:08.509371Z",
     "start_time": "2021-10-12T17:48:08.503915Z"
    }
   },
   "outputs": [],
   "source": [
    "tps_ari_pred_max = tps_ari_reg.predict([tps_ari_opt_result.x])\n",
    "tps_ari_pred_max"
   ]
  },
  {
   "cell_type": "code",
   "execution_count": null,
   "metadata": {
    "ExecuteTime": {
     "end_time": "2021-10-12T17:48:08.744869Z",
     "start_time": "2021-10-12T17:48:08.740902Z"
    }
   },
   "outputs": [],
   "source": [
    "tps_aripred_test_y_arr.max()"
   ]
  },
  {
   "cell_type": "code",
   "execution_count": null,
   "metadata": {},
   "outputs": [],
   "source": []
  },
  {
   "cell_type": "markdown",
   "metadata": {},
   "source": [
    "# Check"
   ]
  },
  {
   "cell_type": "markdown",
   "metadata": {},
   "source": [
    "## get elapsed time"
   ]
  },
  {
   "cell_type": "code",
   "execution_count": null,
   "metadata": {
    "ExecuteTime": {
     "end_time": "2021-10-12T17:49:04.786770Z",
     "start_time": "2021-10-12T17:49:04.782802Z"
    }
   },
   "outputs": [],
   "source": [
    "utils.get_elapsed_time(start_time)"
   ]
  },
  {
   "cell_type": "code",
   "execution_count": null,
   "metadata": {},
   "outputs": [],
   "source": []
  }
 ],
 "metadata": {
  "kernelspec": {
   "display_name": "Python 3",
   "language": "python",
   "name": "python3"
  },
  "language_info": {
   "codemirror_mode": {
    "name": "ipython",
    "version": 3
   },
   "file_extension": ".py",
   "mimetype": "text/x-python",
   "name": "python",
   "nbconvert_exporter": "python",
   "pygments_lexer": "ipython3",
   "version": "3.8.8"
  },
  "latex_envs": {
   "LaTeX_envs_menu_present": true,
   "autoclose": false,
   "autocomplete": true,
   "bibliofile": "biblio.bib",
   "cite_by": "apalike",
   "current_citInitial": 1,
   "eqLabelWithNumbers": true,
   "eqNumInitial": 1,
   "hotkeys": {
    "equation": "Ctrl-E",
    "itemize": "Ctrl-I"
   },
   "labels_anchors": false,
   "latex_user_defs": false,
   "report_style_numbering": false,
   "user_envs_cfg": false
  },
  "toc": {
   "base_numbering": 1,
   "nav_menu": {},
   "number_sections": true,
   "sideBar": true,
   "skip_h1_title": false,
   "title_cell": "Table of Contents",
   "title_sidebar": "Contents",
   "toc_cell": false,
   "toc_position": {
    "height": "calc(100% - 180px)",
    "left": "10px",
    "top": "150px",
    "width": "287.7px"
   },
   "toc_section_display": true,
   "toc_window_display": true
  },
  "varInspector": {
   "cols": {
    "lenName": 16,
    "lenType": 16,
    "lenVar": 40
   },
   "kernels_config": {
    "python": {
     "delete_cmd_postfix": "",
     "delete_cmd_prefix": "del ",
     "library": "var_list.py",
     "varRefreshCmd": "print(var_dic_list())"
    },
    "r": {
     "delete_cmd_postfix": ") ",
     "delete_cmd_prefix": "rm(",
     "library": "var_list.r",
     "varRefreshCmd": "cat(var_dic_list()) "
    }
   },
   "types_to_exclude": [
    "module",
    "function",
    "builtin_function_or_method",
    "instance",
    "_Feature"
   ],
   "window_display": false
  }
 },
 "nbformat": 4,
 "nbformat_minor": 2
}
