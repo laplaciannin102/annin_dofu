{
 "cells": [
  {
   "cell_type": "markdown",
   "metadata": {},
   "source": [
    "# Load modules"
   ]
  },
  {
   "cell_type": "code",
   "execution_count": null,
   "metadata": {
    "ExecuteTime": {
     "end_time": "2021-10-11T22:24:00.944388Z",
     "start_time": "2021-10-11T22:24:00.105157Z"
    }
   },
   "outputs": [],
   "source": [
    "import sys, os\n",
    "import gc\n",
    "import time\n",
    "import random\n",
    "import scipy\n",
    "import numpy as np\n",
    "import pandas as pd\n",
    "import matplotlib.pyplot as plt\n",
    "import seaborn as sns"
   ]
  },
  {
   "cell_type": "code",
   "execution_count": null,
   "metadata": {
    "ExecuteTime": {
     "end_time": "2021-10-11T22:24:01.206295Z",
     "start_time": "2021-10-11T22:24:00.946373Z"
    }
   },
   "outputs": [],
   "source": [
    "# original modules\n",
    "from annin_dofu import calc, matrix, parallel, stats, utils\n",
    "\n",
    "# news vendor modelのimport\n",
    "from annin_dofu.stocking_quantity_optimization import news_vendor_model as nvm"
   ]
  },
  {
   "cell_type": "markdown",
   "metadata": {},
   "source": [
    "# Configuration"
   ]
  },
  {
   "cell_type": "markdown",
   "metadata": {},
   "source": [
    "## random seed"
   ]
  },
  {
   "cell_type": "code",
   "execution_count": null,
   "metadata": {
    "ExecuteTime": {
     "end_time": "2021-10-11T22:24:01.211259Z",
     "start_time": "2021-10-11T22:24:01.207786Z"
    }
   },
   "outputs": [],
   "source": [
    "np.random.seed(57)\n",
    "random.seed(57)"
   ]
  },
  {
   "cell_type": "markdown",
   "metadata": {},
   "source": [
    "## warningの非表示"
   ]
  },
  {
   "cell_type": "code",
   "execution_count": null,
   "metadata": {
    "ExecuteTime": {
     "end_time": "2021-10-11T22:24:01.220187Z",
     "start_time": "2021-10-11T22:24:01.213740Z"
    }
   },
   "outputs": [],
   "source": [
    "# warningの非表示\n",
    "import warnings\n",
    "warnings.filterwarnings('ignore')"
   ]
  },
  {
   "cell_type": "markdown",
   "metadata": {},
   "source": [
    "## 左寄せにするマジックコマンド"
   ]
  },
  {
   "cell_type": "code",
   "execution_count": null,
   "metadata": {
    "ExecuteTime": {
     "end_time": "2021-10-11T22:24:01.231595Z",
     "start_time": "2021-10-11T22:24:01.221674Z"
    }
   },
   "outputs": [],
   "source": [
    "%%html\n",
    "<style>\n",
    "    table{float:left}\n",
    "    .MathJax{float: left;}\n",
    "</style>"
   ]
  },
  {
   "cell_type": "markdown",
   "metadata": {},
   "source": [
    "## データフレームの表示設定"
   ]
  },
  {
   "cell_type": "code",
   "execution_count": null,
   "metadata": {
    "ExecuteTime": {
     "end_time": "2021-10-11T22:24:01.238538Z",
     "start_time": "2021-10-11T22:24:01.233082Z"
    }
   },
   "outputs": [],
   "source": [
    "# データフレームの表示行数, 表示列数設定.\n",
    "pd.set_option('display.max_columns', 100)\n",
    "pd.set_option('display.max_rows', 200)\n",
    "\n",
    "# カラム内の文字数設定. デフォルトは50.\n",
    "pd.set_option('display.max_colwidth', 100)"
   ]
  },
  {
   "cell_type": "markdown",
   "metadata": {},
   "source": [
    "## カレントディレクトリの設定"
   ]
  },
  {
   "cell_type": "code",
   "execution_count": null,
   "metadata": {
    "ExecuteTime": {
     "end_time": "2021-10-11T22:24:01.252922Z",
     "start_time": "2021-10-11T22:24:01.240026Z"
    }
   },
   "outputs": [],
   "source": [
    "# 念の為カレントディレクトリをファイルの場所に変更しておく\n",
    "os.chdir(os.getcwd())"
   ]
  },
  {
   "cell_type": "markdown",
   "metadata": {},
   "source": [
    "## 経過時間取得のための開始時間保存"
   ]
  },
  {
   "cell_type": "code",
   "execution_count": null,
   "metadata": {
    "ExecuteTime": {
     "end_time": "2021-10-11T22:24:01.270283Z",
     "start_time": "2021-10-11T22:24:01.254410Z"
    }
   },
   "outputs": [],
   "source": [
    "start_time = time.time()"
   ]
  },
  {
   "cell_type": "markdown",
   "metadata": {},
   "source": [
    "# Functions"
   ]
  },
  {
   "cell_type": "markdown",
   "metadata": {},
   "source": [
    "## norm_dist_prob"
   ]
  },
  {
   "cell_type": "markdown",
   "metadata": {},
   "source": [
    "正規分布\n",
    "\n",
    "$$\n",
    "\\begin{aligned}\n",
    "\\frac{1}{\\sqrt{2 \\pi \\sigma^2}} \\exp \\left( - \\frac{(x - \\mu)^2}{2 \\sigma^2} \\right)\n",
    "\\end{aligned}\n",
    "$$"
   ]
  },
  {
   "cell_type": "code",
   "execution_count": null,
   "metadata": {
    "ExecuteTime": {
     "end_time": "2021-10-11T22:24:01.289130Z",
     "start_time": "2021-10-11T22:24:01.272762Z"
    }
   },
   "outputs": [],
   "source": [
    "stats.norm_dist_prob(1)"
   ]
  },
  {
   "cell_type": "code",
   "execution_count": null,
   "metadata": {
    "ExecuteTime": {
     "end_time": "2021-10-11T22:24:01.307483Z",
     "start_time": "2021-10-11T22:24:01.290618Z"
    }
   },
   "outputs": [],
   "source": [
    "stats.sp_norm_dist_prob(1)"
   ]
  },
  {
   "cell_type": "code",
   "execution_count": null,
   "metadata": {
    "ExecuteTime": {
     "end_time": "2021-10-11T22:24:01.433962Z",
     "start_time": "2021-10-11T22:24:01.309467Z"
    }
   },
   "outputs": [],
   "source": [
    "x_arr = np.linspace(-5, 5, 1000)\n",
    "y_arr = stats.norm_dist_prob(x_arr)\n",
    "\n",
    "plt.figure(facecolor='white')\n",
    "plt.plot(x_arr, y_arr)\n",
    "plt.title('normal distribution')\n",
    "plt.grid()\n",
    "plt.show()"
   ]
  },
  {
   "cell_type": "code",
   "execution_count": null,
   "metadata": {},
   "outputs": [],
   "source": []
  },
  {
   "cell_type": "markdown",
   "metadata": {},
   "source": [
    "## calc_expected_gross_profit"
   ]
  },
  {
   "cell_type": "markdown",
   "metadata": {},
   "source": [
    "需要推定量 $\\hat{D_{t}}$ が与えられた時の粗利(gross profit)の期待値は次式で与えられる.\n",
    "\n",
    "$$\n",
    "\\begin{aligned}\n",
    "E[\\mathrm{profit}_{t} \\mid \\hat{D_{t}}] &= E[p s_{t} - c q_{t} \\mid \\hat{D_{t}}] \\\\\n",
    "&= E[\\hat{D_{t}} ( p \\cdot \\min \\{ x_{t}, \\alpha_{t} \\} - c x_{t} + p - c ) \\mid \\hat{D_{t}}] \\\\\n",
    "&= \\hat{D_{t}} E[p \\cdot \\min \\{ x_{t}, \\alpha_{t} \\} - c x_{t} + p - c \\mid \\hat{D_{t}}] \\\\\n",
    "&= \\hat{D_{t}} ( E[p \\cdot \\min \\{ x_{t}, \\alpha_{t} \\} \\mid \\hat{D_{t}}] - E[c x_{t} \\mid \\hat{D_{t}}] + E[p \\mid \\hat{D_{t}}] - E[c \\mid \\hat{D_{t}}] ) \\\\\n",
    "&= \\hat{D_{t}} ( p \\cdot E[\\min \\{ x_{t}, \\alpha_{t} \\} \\mid \\hat{D_{t}}] - c x_{t} + p - c ) \\\\\n",
    "\\\\\n",
    "&= \\hat{D_{t}}\n",
    "\\begin{Bmatrix}\n",
    "\\begin{aligned}\n",
    "p \\int_{u \\leq x_{t}} u f(u) du + p x_{t} (1 - F(x_{t})) - c x_{t} + p - c\n",
    "\\end{aligned}\n",
    "\\end{Bmatrix} \\\\\n",
    "\\\\\n",
    "&= \\hat{D_{t}}\n",
    "\\begin{Bmatrix}\n",
    "\\begin{aligned}\n",
    "p \\int_{u \\leq x_{t}} u f(u) du - p x_{t} F(x_{t}) + (p - c) x_{t} + p - c\n",
    "\\end{aligned}\n",
    "\\end{Bmatrix} \\\\\n",
    "\\\\\n",
    "&= \\hat{D_{t}}\n",
    "\\begin{Bmatrix}\n",
    "\\begin{aligned}\n",
    "p \\int_{u \\leq x_{t}} ( u - x_{t} ) f(u) du + p x_{t} - c x_{t} + p - c\n",
    "\\end{aligned}\n",
    "\\end{Bmatrix} \\\\\n",
    "\\\\\n",
    "&= \\hat{D_{t}}\n",
    "\\begin{Bmatrix}\n",
    "\\begin{aligned}\n",
    "p \\int_{u \\leq x_{t}} ( u - x_{t} ) f(u) du + (p - c)(x_{t} + 1)\n",
    "\\end{aligned}\n",
    "\\end{Bmatrix}\n",
    "\\end{aligned}\n",
    "$$"
   ]
  },
  {
   "cell_type": "code",
   "execution_count": null,
   "metadata": {},
   "outputs": [],
   "source": []
  },
  {
   "cell_type": "markdown",
   "metadata": {},
   "source": [
    "## calc_best_expected_gross_profit"
   ]
  },
  {
   "cell_type": "markdown",
   "metadata": {},
   "source": [
    "- 最適解における粗利期待値\n",
    "\n",
    "$$\n",
    "\\begin{aligned}\n",
    "E[\\mathrm{profit}_{t} \\mid x_{t} = x_{t}^*] &= \\hat{D_{t}}\n",
    "\\begin{Bmatrix}\n",
    "\\begin{aligned}\n",
    "p \\int_{u \\leq x_{t}^*} u f(u) du - p x_{t}^* F( x_{t}^* ) + (p - c) x_{t}^* + p - c\n",
    "\\end{aligned}\n",
    "\\end{Bmatrix} \\\\\n",
    "\\\\\n",
    "&= \\hat{D_{t}}\n",
    "\\begin{Bmatrix}\n",
    "\\begin{aligned}\n",
    "p \\int_{u \\leq x_{t}^*} u f(u) du - p x_{t}^* \\left( \\frac{p - c}{p} \\right) + (p - c) x_{t}^* + p - c\n",
    "\\end{aligned}\n",
    "\\end{Bmatrix} \\\\\n",
    "\\\\\n",
    "&= \\hat{D_{t}}\n",
    "\\begin{Bmatrix}\n",
    "\\begin{aligned}\n",
    "p \\int_{u \\leq x_{t}^*} u f(u) du - (p - c) x_{t}^* + (p - c) x_{t}^* + p - c\n",
    "\\end{aligned}\n",
    "\\end{Bmatrix} \\\\\n",
    "\\\\\n",
    "&= \\hat{D_{t}}\n",
    "\\begin{Bmatrix}\n",
    "\\begin{aligned}\n",
    "p \\int_{u \\leq x_{t}^*} u f(u) du + p - c\n",
    "\\end{aligned}\n",
    "\\end{Bmatrix}\n",
    "\\end{aligned}\n",
    "$$"
   ]
  },
  {
   "cell_type": "markdown",
   "metadata": {},
   "source": [
    "- 増減表\n",
    "粗利期待値の増減表は次の通り.\n",
    "\n",
    "| $x_{t}$ | $\\cdots$ | $x_{t}^*$ | $\\cdots$ |\n",
    "|:-:|:-:|:-:|:-:|\n",
    "| $\\dfrac{\\partial}{\\partial x_{t}} E[\\mathrm{profit}_{t}]$ | $+$ | $0$ | $-$ |\n",
    "| $E[\\mathrm{profit}_{t}]$ | $\\nearrow$ | $$\\hat{D_{t}} \\begin{Bmatrix} \\begin{aligned} p \\int_{u \\leq x_{t}^*} u f(u) du + p - c \\end{aligned} \\end{Bmatrix}$$ | $\\searrow$ |"
   ]
  },
  {
   "cell_type": "markdown",
   "metadata": {},
   "source": [
    "# make sample data"
   ]
  },
  {
   "cell_type": "markdown",
   "metadata": {},
   "source": [
    "## variables\n",
    "- 変数の値を設定\n",
    "    - 売価\n",
    "    - 原価"
   ]
  },
  {
   "cell_type": "code",
   "execution_count": null,
   "metadata": {
    "ExecuteTime": {
     "end_time": "2021-10-11T22:24:01.438426Z",
     "start_time": "2021-10-11T22:24:01.434954Z"
    }
   },
   "outputs": [],
   "source": [
    "# 売価\n",
    "price = 100\n",
    "\n",
    "# 原価\n",
    "cost = 30\n",
    "\n",
    "# sample size\n",
    "n_samples = 100\n",
    "\n",
    "# 周期性\n",
    "cycle = 7"
   ]
  },
  {
   "cell_type": "markdown",
   "metadata": {},
   "source": [
    "## 時間(time)"
   ]
  },
  {
   "cell_type": "code",
   "execution_count": null,
   "metadata": {
    "ExecuteTime": {
     "end_time": "2021-10-11T22:24:01.450333Z",
     "start_time": "2021-10-11T22:24:01.439914Z"
    }
   },
   "outputs": [],
   "source": [
    "# 時間(time)\n",
    "t_list = np.arange(1, n_samples+1, 1)"
   ]
  },
  {
   "cell_type": "markdown",
   "metadata": {},
   "source": [
    "## 需要量(demand), 在庫量(stocking quantity), 販売量(sales)"
   ]
  },
  {
   "cell_type": "code",
   "execution_count": null,
   "metadata": {
    "ExecuteTime": {
     "end_time": "2021-10-11T22:24:01.463722Z",
     "start_time": "2021-10-11T22:24:01.451818Z"
    }
   },
   "outputs": [],
   "source": [
    "# 時系列サンプル\n",
    "ts_samples_list = np.round(30 + 0.5 * t_list + 10 * np.sin(2 * np.pi * t_list / cycle))\n",
    "\n",
    "# 需要量(demand)(今回求めたい分布)\n",
    "# d_list = np.round(np.random.normal(100, 20, n_samples)) # 正規分布\n",
    "# d_list = np.round(np.random.poisson(100, n_samples)) # ポアソン分布\n",
    "d_list = ts_samples_list + np.round(np.random.poisson(30, n_samples)) # ポアソン分布\n",
    "\n",
    "# 在庫量(stocking quantity)\n",
    "# q_list = np.round(np.random.normal(110, 15, n_samples))\n",
    "q_list = ts_samples_list + np.round(np.random.normal(35, 10, n_samples))\n",
    "\n",
    "# 販売量(sales)\n",
    "# s_list = np.round(np.min(np.vstack([d_list, q_list]), axis=0))\n",
    "s_list = np.min([q_list, d_list], axis=0) # 高速"
   ]
  },
  {
   "cell_type": "markdown",
   "metadata": {},
   "source": [
    "## 粗利(gross profit)\n",
    "\n",
    "- $t$ 便の粗利(gross profit)を次式で定義する.\n",
    "\n",
    "$$\n",
    "\\begin{aligned}\n",
    "\\mathrm{profit}_{t} &:= p s_{t} - c q_{t} \\\\\n",
    "&= p \\hat{D_{t}} ( \\min \\{ x_{t}, \\alpha_{t} \\} + 1 ) - c \\hat{D_{t}} ( x_{t} + 1 ) \\\\\n",
    "&= \\hat{D_{t}} ( p \\cdot \\min \\{ x_{t}, \\alpha_{t} \\} + p - c x_{t} - c ) \\\\\n",
    "&= \\hat{D_{t}} ( p \\cdot \\min \\{ x_{t}, \\alpha_{t} \\} - c x_{t} + p - c )\n",
    "\\end{aligned}\n",
    "$$\n",
    "\n",
    "- nvm.calc_gross_profit()で計算する."
   ]
  },
  {
   "cell_type": "code",
   "execution_count": null,
   "metadata": {
    "ExecuteTime": {
     "end_time": "2021-10-11T22:24:01.485087Z",
     "start_time": "2021-10-11T22:24:01.464714Z"
    }
   },
   "outputs": [],
   "source": [
    "# 粗利(gross_profit)\n",
    "gp_list = nvm.calc_gross_profit(\n",
    "    sales=s_list,\n",
    "    quantity=q_list,\n",
    "    price=price,\n",
    "    cost=cost\n",
    ")"
   ]
  },
  {
   "cell_type": "code",
   "execution_count": null,
   "metadata": {},
   "outputs": [],
   "source": []
  },
  {
   "cell_type": "markdown",
   "metadata": {},
   "source": [
    "## pandas.DataFrameに格納"
   ]
  },
  {
   "cell_type": "code",
   "execution_count": null,
   "metadata": {
    "ExecuteTime": {
     "end_time": "2021-10-11T22:24:01.512389Z",
     "start_time": "2021-10-11T22:24:01.486079Z"
    }
   },
   "outputs": [],
   "source": [
    "df = pd.DataFrame({\n",
    "    'time': t_list,\n",
    "    'demand': d_list,\n",
    "    'quantity': q_list,\n",
    "    'sales': s_list,\n",
    "    'price': price,\n",
    "    'cost': cost,\n",
    "    'profit': gp_list\n",
    "}).astype(int)\n",
    "df.head(10)"
   ]
  },
  {
   "cell_type": "code",
   "execution_count": null,
   "metadata": {
    "ExecuteTime": {
     "end_time": "2021-10-11T22:24:01.527269Z",
     "start_time": "2021-10-11T22:24:01.513877Z"
    }
   },
   "outputs": [],
   "source": [
    "df.shape"
   ]
  },
  {
   "cell_type": "code",
   "execution_count": null,
   "metadata": {},
   "outputs": [],
   "source": []
  },
  {
   "cell_type": "markdown",
   "metadata": {},
   "source": [
    "# Preprocessing"
   ]
  },
  {
   "cell_type": "markdown",
   "metadata": {},
   "source": [
    "## pred_demand\n",
    "\n",
    "- 需要予測値を格納する."
   ]
  },
  {
   "cell_type": "code",
   "execution_count": null,
   "metadata": {
    "ExecuteTime": {
     "end_time": "2021-10-11T22:24:01.542150Z",
     "start_time": "2021-10-11T22:24:01.528262Z"
    }
   },
   "outputs": [],
   "source": [
    "# 時系列予測が上手くいった場合\n",
    "df['pred_demand'] = ts_samples_list + 30\n",
    "\n",
    "# 平均値を予測値とする場合\n",
    "# df['pred_demand'] = df['demand'].mean()\n",
    "df.head(3)"
   ]
  },
  {
   "cell_type": "code",
   "execution_count": null,
   "metadata": {},
   "outputs": [],
   "source": []
  },
  {
   "cell_type": "markdown",
   "metadata": {},
   "source": [
    "## alpha\n",
    "\n",
    "- $\\alpha$を次式で定義する.\n",
    "\n",
    "$$\n",
    "\\begin{aligned}\n",
    "&\\alpha_{t} = \\frac{D_{t} - \\hat{D_{t}}}{\\hat{D_{t}}} : \\text{$t$便の需要推定量に対して需要量が需要推定量からどの程度ぶれるかを表す量. 確率変数.}\n",
    "\\end{aligned}\n",
    "$$\n",
    "\n",
    "- nvm.calc_demand_diff_ratio_from_pred_demand()で計算する."
   ]
  },
  {
   "cell_type": "code",
   "execution_count": null,
   "metadata": {
    "ExecuteTime": {
     "end_time": "2021-10-11T22:24:01.553061Z",
     "start_time": "2021-10-11T22:24:01.543637Z"
    }
   },
   "outputs": [],
   "source": [
    "df['alpha'] = df.apply(lambda row: nvm.calc_demand_diff_ratio_from_pred_demand(row['demand'], row['pred_demand']), axis=1)"
   ]
  },
  {
   "cell_type": "code",
   "execution_count": null,
   "metadata": {},
   "outputs": [],
   "source": []
  },
  {
   "cell_type": "markdown",
   "metadata": {},
   "source": [
    "## x\n",
    "\n",
    "- $x$を次式で定義する.\n",
    "\n",
    "$$\n",
    "\\begin{aligned}\n",
    "&x_{t} = \\frac{q_{t} - \\hat{D_{t}}}{\\hat{D_{t}}} \\in \\mathbb{R} : \\text{$t$便の需要推定量に対する期初総在庫数と需要推定量の差分の割合. どの程度多く在庫を用意しておくか. 推定される販売あたり廃棄率.}\n",
    "\\end{aligned}\n",
    "$$\n",
    "\n",
    "- nvm.calc_quantity_diff_ratio_from_pred_demand()で計算する."
   ]
  },
  {
   "cell_type": "code",
   "execution_count": null,
   "metadata": {
    "ExecuteTime": {
     "end_time": "2021-10-11T22:24:01.560503Z",
     "start_time": "2021-10-11T22:24:01.554053Z"
    }
   },
   "outputs": [],
   "source": [
    "df['x'] = df.apply(lambda row: nvm.calc_quantity_diff_ratio_from_pred_demand(row['quantity'], row['pred_demand']), axis=1)"
   ]
  },
  {
   "cell_type": "code",
   "execution_count": null,
   "metadata": {},
   "outputs": [],
   "source": []
  },
  {
   "cell_type": "markdown",
   "metadata": {},
   "source": [
    "## check DataFrame"
   ]
  },
  {
   "cell_type": "markdown",
   "metadata": {},
   "source": [
    "### head and tail"
   ]
  },
  {
   "cell_type": "code",
   "execution_count": null,
   "metadata": {
    "ExecuteTime": {
     "end_time": "2021-10-11T22:24:01.574886Z",
     "start_time": "2021-10-11T22:24:01.562486Z"
    }
   },
   "outputs": [],
   "source": [
    "df.head()"
   ]
  },
  {
   "cell_type": "code",
   "execution_count": null,
   "metadata": {
    "ExecuteTime": {
     "end_time": "2021-10-11T22:24:01.598197Z",
     "start_time": "2021-10-11T22:24:01.576373Z"
    }
   },
   "outputs": [],
   "source": [
    "df.tail()"
   ]
  },
  {
   "cell_type": "code",
   "execution_count": null,
   "metadata": {
    "ExecuteTime": {
     "end_time": "2021-10-11T22:24:01.615557Z",
     "start_time": "2021-10-11T22:24:01.599189Z"
    }
   },
   "outputs": [],
   "source": [
    "df.shape"
   ]
  },
  {
   "cell_type": "markdown",
   "metadata": {},
   "source": [
    "### describe"
   ]
  },
  {
   "cell_type": "code",
   "execution_count": null,
   "metadata": {
    "ExecuteTime": {
     "end_time": "2021-10-11T22:24:01.654747Z",
     "start_time": "2021-10-11T22:24:01.616549Z"
    },
    "scrolled": true
   },
   "outputs": [],
   "source": [
    "df.describe()"
   ]
  },
  {
   "cell_type": "code",
   "execution_count": null,
   "metadata": {},
   "outputs": [],
   "source": []
  },
  {
   "cell_type": "markdown",
   "metadata": {},
   "source": [
    "# Stocking Quantity Optimization"
   ]
  },
  {
   "cell_type": "markdown",
   "metadata": {},
   "source": [
    "## get alpha probability density function\n",
    "\n",
    "- $\\alpha$の確率密度関数と確率分布を取得する.\n",
    "- 確率分布の関数をalpha_cumulative_dist_funcという変数に格納する."
   ]
  },
  {
   "cell_type": "code",
   "execution_count": null,
   "metadata": {
    "ExecuteTime": {
     "end_time": "2021-10-11T22:24:01.663676Z",
     "start_time": "2021-10-11T22:24:01.655739Z"
    }
   },
   "outputs": [],
   "source": [
    "# get alpha probability density function\n",
    "sp_kde_model = scipy.stats.gaussian_kde(df['alpha'])\n",
    "alpha_density_func = sp_kde_model.pdf\n",
    "alpha_cumulative_dist_func = (lambda x: sp_kde_model.integrate_box_1d(-np.inf, x))"
   ]
  },
  {
   "cell_type": "code",
   "execution_count": null,
   "metadata": {},
   "outputs": [],
   "source": []
  },
  {
   "cell_type": "markdown",
   "metadata": {},
   "source": [
    "## calc best_excess\n",
    "\n",
    "- $\\alpha$の確率分布関数を元に, 最適な$x$を取得する.\n",
    "\n",
    "$F$ は単調増加より この式を満たす $x_{t}$ はただ1つ存在し,\n",
    "それを $x_{t}^*$ とする.\n",
    "($F ^ {-1}$ は逆像ではなく, 逆写像)\n",
    "\n",
    "$$\n",
    "\\begin{aligned}\n",
    "F (x_{t}^*) &= \\int_{-\\infty}^{p} f(u) du \\\\\n",
    "&= \\frac{p - c}{p}\n",
    "\\end{aligned}\n",
    "$$\n",
    "\n",
    "$$\n",
    "\\begin{aligned}\n",
    "x_{t}^* &= F ^ {-1} \\left( \\frac{p - c}{p} \\right)\n",
    "\\end{aligned}\n",
    "$$\n",
    "\n",
    "- nvm.calc_best_excess()で計算する."
   ]
  },
  {
   "cell_type": "code",
   "execution_count": null,
   "metadata": {
    "ExecuteTime": {
     "end_time": "2021-10-11T22:24:01.693931Z",
     "start_time": "2021-10-11T22:24:01.665164Z"
    }
   },
   "outputs": [],
   "source": [
    "best_x = nvm.calc_best_excess(\n",
    "    x_min=-0.5,\n",
    "    x_max=0.5,\n",
    "    x_step=1e-3,\n",
    "    alpha_cumulative_dist_func=alpha_cumulative_dist_func,\n",
    "    price=price,\n",
    "    cost=cost,\n",
    "    epsilon=1e-3\n",
    ")\n",
    "print('best_x:', best_x)"
   ]
  },
  {
   "cell_type": "code",
   "execution_count": null,
   "metadata": {},
   "outputs": [],
   "source": []
  },
  {
   "cell_type": "markdown",
   "metadata": {},
   "source": [
    "## calc best_gross_profit\n",
    "\n",
    "- 最適解における粗利期待値\n",
    "\n",
    "$$\n",
    "\\begin{aligned}\n",
    "E[\\mathrm{profit}_{t} \\mid x_{t} = x_{t}^*] &= \\hat{D_{t}}\n",
    "\\begin{Bmatrix}\n",
    "\\begin{aligned}\n",
    "p \\int_{u \\leq x_{t}^*} u f(u) du - p x_{t}^* F( x_{t}^* ) + (p - c) x_{t}^* + p - c\n",
    "\\end{aligned}\n",
    "\\end{Bmatrix} \\\\\n",
    "\\\\\n",
    "&= \\hat{D_{t}}\n",
    "\\begin{Bmatrix}\n",
    "\\begin{aligned}\n",
    "p \\int_{u \\leq x_{t}^*} u f(u) du - p x_{t}^* \\left( \\frac{p - c}{p} \\right) + (p - c) x_{t}^* + p - c\n",
    "\\end{aligned}\n",
    "\\end{Bmatrix} \\\\\n",
    "\\\\\n",
    "&= \\hat{D_{t}}\n",
    "\\begin{Bmatrix}\n",
    "\\begin{aligned}\n",
    "p \\int_{u \\leq x_{t}^*} u f(u) du - (p - c) x_{t}^* + (p - c) x_{t}^* + p - c\n",
    "\\end{aligned}\n",
    "\\end{Bmatrix} \\\\\n",
    "\\\\\n",
    "&= \\hat{D_{t}}\n",
    "\\begin{Bmatrix}\n",
    "\\begin{aligned}\n",
    "p \\int_{u \\leq x_{t}^*} u f(u) du + p - c\n",
    "\\end{aligned}\n",
    "\\end{Bmatrix}\n",
    "\\end{aligned}\n",
    "$$\n",
    "\n",
    "- 増減表\n",
    "粗利期待値の増減表は次の通り.\n",
    "\n",
    "| $x_{t}$ | $\\cdots$ | $x_{t}^*$ | $\\cdots$ |\n",
    "|:-:|:-:|:-:|:-:|\n",
    "| $\\dfrac{\\partial}{\\partial x_{t}} E[\\mathrm{profit}_{t}]$ | $+$ | $0$ | $-$ |\n",
    "| $E[\\mathrm{profit}_{t}]$ | $\\nearrow$ | $$\\hat{D_{t}} \\begin{Bmatrix} \\begin{aligned} p \\int_{u \\leq x_{t}^*} u f(u) du + p - c \\end{aligned} \\end{Bmatrix}$$ | $\\searrow$ |\n",
    "\n",
    "- nvm.calc_best_expected_gross_profit()で計算する."
   ]
  },
  {
   "cell_type": "code",
   "execution_count": null,
   "metadata": {
    "ExecuteTime": {
     "end_time": "2021-10-11T22:24:01.700876Z",
     "start_time": "2021-10-11T22:24:01.697404Z"
    }
   },
   "outputs": [],
   "source": [
    "# 平均を予測値とする\n",
    "pred_demand = df['pred_demand'].mean()\n",
    "\n",
    "print('pred demand:', pred_demand)"
   ]
  },
  {
   "cell_type": "code",
   "execution_count": null,
   "metadata": {
    "ExecuteTime": {
     "end_time": "2021-10-11T22:24:01.722203Z",
     "start_time": "2021-10-11T22:24:01.702859Z"
    }
   },
   "outputs": [],
   "source": [
    "# 最適な粗利期待値\n",
    "# nvm.calc_best_expected_gross_profit()で直接算出する.\n",
    "best_egp1 = nvm.calc_best_expected_gross_profit(\n",
    "    best_x=best_x,\n",
    "    alpha_density_func=alpha_density_func,\n",
    "    pred_demand=pred_demand,\n",
    "    price=price,\n",
    "    cost=cost\n",
    ")\n",
    "print('best expected_gross_profit:', best_egp1)"
   ]
  },
  {
   "cell_type": "code",
   "execution_count": null,
   "metadata": {
    "ExecuteTime": {
     "end_time": "2021-10-11T22:24:01.748987Z",
     "start_time": "2021-10-11T22:24:01.723691Z"
    }
   },
   "outputs": [],
   "source": [
    "# 最適な粗利期待値\n",
    "# nvm.calc_expected_gross_profit()に最適なxを代入して算出する.\n",
    "best_egp2 = nvm.calc_expected_gross_profit(\n",
    "    x=best_x,\n",
    "    alpha_density_func=alpha_density_func,\n",
    "    pred_demand=pred_demand,\n",
    "    price=price,\n",
    "    cost=cost\n",
    ")\n",
    "print('best expected_gross_profit:', best_egp2)"
   ]
  },
  {
   "cell_type": "code",
   "execution_count": null,
   "metadata": {
    "ExecuteTime": {
     "end_time": "2021-10-11T22:24:01.766367Z",
     "start_time": "2021-10-11T22:24:01.749979Z"
    }
   },
   "outputs": [],
   "source": [
    "# 2通りの算出で結果がほぼ同じになることが確認できる.\n",
    "print('best expected_gross_profit')\n",
    "print('直接算出:', best_egp1)\n",
    "print('最適値を代入して算出:', best_egp2)"
   ]
  },
  {
   "cell_type": "code",
   "execution_count": null,
   "metadata": {},
   "outputs": [],
   "source": []
  },
  {
   "cell_type": "markdown",
   "metadata": {},
   "source": [
    "# Visualization"
   ]
  },
  {
   "cell_type": "markdown",
   "metadata": {},
   "source": [
    "## time series"
   ]
  },
  {
   "cell_type": "markdown",
   "metadata": {},
   "source": [
    "### 需要量(demand), 在庫量(stocking quantity), 販売量(sales)"
   ]
  },
  {
   "cell_type": "code",
   "execution_count": null,
   "metadata": {
    "ExecuteTime": {
     "end_time": "2021-10-11T22:24:01.988801Z",
     "start_time": "2021-10-11T22:24:01.767359Z"
    },
    "scrolled": true
   },
   "outputs": [],
   "source": [
    "plt.figure(\n",
    "    figsize=(20, 5),\n",
    "    facecolor='white',\n",
    "    dpi=150\n",
    ")\n",
    "\n",
    "plt.title('sample data\\ndemand, quantity, sales', fontsize=20)\n",
    "plt.xlabel('time', fontsize=15)\n",
    "plt.ylabel('value', fontsize=15)\n",
    "\n",
    "# demand\n",
    "plt.plot(\n",
    "    df['time'],\n",
    "    df['demand'],\n",
    "    label='demand',\n",
    "    lw=3\n",
    ")\n",
    "\n",
    "# quantity\n",
    "plt.plot(\n",
    "    df['time'],\n",
    "    df['quantity'],\n",
    "    label='quantity',\n",
    "    lw=3\n",
    ")\n",
    "\n",
    "# sales\n",
    "plt.plot(\n",
    "    df['time'],\n",
    "    df['sales'],\n",
    "    label='sales',\n",
    "    lw=2\n",
    ")\n",
    "\n",
    "plt.ylim([0, 160])\n",
    "plt.grid()\n",
    "plt.legend()\n",
    "plt.show()"
   ]
  },
  {
   "cell_type": "markdown",
   "metadata": {},
   "source": [
    "### alpha, x"
   ]
  },
  {
   "cell_type": "code",
   "execution_count": null,
   "metadata": {
    "ExecuteTime": {
     "end_time": "2021-10-11T22:24:02.166865Z",
     "start_time": "2021-10-11T22:24:01.989793Z"
    },
    "scrolled": true
   },
   "outputs": [],
   "source": [
    "plt.figure(\n",
    "    figsize=(20, 5),\n",
    "    facecolor='white',\n",
    "    dpi=150\n",
    ")\n",
    "\n",
    "plt.title('sample data\\nalpha, x', fontsize=20)\n",
    "plt.xlabel('time', fontsize=15)\n",
    "plt.ylabel('value', fontsize=15)\n",
    "\n",
    "# alpha\n",
    "plt.plot(\n",
    "    df['time'],\n",
    "    df['alpha'],\n",
    "    label='alpha',\n",
    "    lw=3\n",
    ")\n",
    "\n",
    "# x\n",
    "plt.plot(\n",
    "    df['time'],\n",
    "    df['x'],\n",
    "    label='x',\n",
    "    lw=3\n",
    ")\n",
    "\n",
    "plt.ylim([-0.5, 0.5])\n",
    "plt.grid()\n",
    "plt.legend()\n",
    "plt.show()"
   ]
  },
  {
   "cell_type": "markdown",
   "metadata": {},
   "source": [
    "### 粗利(gross profit)"
   ]
  },
  {
   "cell_type": "code",
   "execution_count": null,
   "metadata": {
    "ExecuteTime": {
     "end_time": "2021-10-11T22:24:02.729329Z",
     "start_time": "2021-10-11T22:24:02.167857Z"
    },
    "scrolled": true
   },
   "outputs": [],
   "source": [
    "fig, ax1 = plt.subplots(\n",
    "    figsize=(40, 10),\n",
    "    facecolor='white',\n",
    "    dpi=150\n",
    ")\n",
    "ax2 = ax1.twinx()\n",
    "\n",
    "# demand\n",
    "g1 = ax1.plot(\n",
    "    df['time'],\n",
    "    df['demand'],\n",
    "    label='demand',\n",
    "    lw=2,\n",
    "    alpha=0.5\n",
    ")\n",
    "\n",
    "# quantity\n",
    "g2 = ax1.plot(\n",
    "    df['time'],\n",
    "    df['quantity'],\n",
    "    label='quantity',\n",
    "    lw=2,\n",
    "    alpha=0.5\n",
    ")\n",
    "\n",
    "# sales\n",
    "g3 = ax1.plot(\n",
    "    df['time'],\n",
    "    df['sales'],\n",
    "    label='sales',\n",
    "    lw=2,\n",
    "    alpha=0.5\n",
    ")\n",
    "\n",
    "# gross_profit\n",
    "g4 = ax2.plot(\n",
    "    df['time'],\n",
    "    df['profit'],\n",
    "    label='gross_profit',\n",
    "    lw=4,\n",
    "    color='red'\n",
    ")\n",
    "\n",
    "_title = r'gross_profit'\n",
    "ax1.set_title(_title, fontsize=20)\n",
    "ax1.set_xlabel(r'time', fontsize=15)\n",
    "ax1.set_ylabel(r'sales', fontsize=15)\n",
    "ax2.set_ylabel(r'gross_profit', fontsize=15)\n",
    "\n",
    "g_list = g1 + g2 + g3 + g4\n",
    "plt.legend(\n",
    "    g_list,\n",
    "    [g.get_label() for g in g_list],\n",
    "    loc=0,\n",
    "    fontsize=15\n",
    ")\n",
    "plt.grid()\n",
    "plt.show()"
   ]
  },
  {
   "cell_type": "code",
   "execution_count": null,
   "metadata": {},
   "outputs": [],
   "source": []
  },
  {
   "cell_type": "markdown",
   "metadata": {},
   "source": [
    "## histogram and distribution"
   ]
  },
  {
   "cell_type": "markdown",
   "metadata": {},
   "source": [
    "### 需要量(demand)"
   ]
  },
  {
   "cell_type": "code",
   "execution_count": null,
   "metadata": {
    "ExecuteTime": {
     "end_time": "2021-10-11T22:24:02.861264Z",
     "start_time": "2021-10-11T22:24:02.730816Z"
    },
    "scrolled": true
   },
   "outputs": [],
   "source": [
    "var = 'demand'\n",
    "plt.figure(figsize=(6, 5), facecolor='white')\n",
    "sns.distplot(\n",
    "    df[var],\n",
    "    label=var\n",
    ")\n",
    "plt.title(var)\n",
    "plt.grid()\n",
    "plt.show()"
   ]
  },
  {
   "cell_type": "code",
   "execution_count": null,
   "metadata": {},
   "outputs": [],
   "source": []
  },
  {
   "cell_type": "markdown",
   "metadata": {},
   "source": [
    "### 在庫量(stocking quantity)"
   ]
  },
  {
   "cell_type": "code",
   "execution_count": null,
   "metadata": {
    "ExecuteTime": {
     "end_time": "2021-10-11T22:24:03.014032Z",
     "start_time": "2021-10-11T22:24:02.863744Z"
    },
    "scrolled": true
   },
   "outputs": [],
   "source": [
    "var = 'quantity'\n",
    "plt.figure(figsize=(6, 5), facecolor='white')\n",
    "sns.distplot(\n",
    "    df[var],\n",
    "    label=var\n",
    ")\n",
    "plt.title(var)\n",
    "plt.grid()\n",
    "plt.show()"
   ]
  },
  {
   "cell_type": "code",
   "execution_count": null,
   "metadata": {},
   "outputs": [],
   "source": []
  },
  {
   "cell_type": "markdown",
   "metadata": {},
   "source": [
    "### 販売量(sales)"
   ]
  },
  {
   "cell_type": "code",
   "execution_count": null,
   "metadata": {
    "ExecuteTime": {
     "end_time": "2021-10-11T22:24:03.143985Z",
     "start_time": "2021-10-11T22:24:03.015521Z"
    },
    "scrolled": true
   },
   "outputs": [],
   "source": [
    "var = 'sales'\n",
    "plt.figure(figsize=(6, 5), facecolor='white')\n",
    "sns.distplot(\n",
    "    df[var],\n",
    "    label=var\n",
    ")\n",
    "plt.title(var)\n",
    "plt.grid()\n",
    "plt.show()"
   ]
  },
  {
   "cell_type": "code",
   "execution_count": null,
   "metadata": {},
   "outputs": [],
   "source": []
  },
  {
   "cell_type": "markdown",
   "metadata": {},
   "source": [
    "### 需要量(demand), 在庫量(stocking quantity), 販売量(sales)"
   ]
  },
  {
   "cell_type": "code",
   "execution_count": null,
   "metadata": {
    "ExecuteTime": {
     "end_time": "2021-10-11T22:24:03.148945Z",
     "start_time": "2021-10-11T22:24:03.145473Z"
    }
   },
   "outputs": [],
   "source": [
    "vars_list = [\n",
    "    'demand',\n",
    "    'quantity',\n",
    "    'sales'\n",
    "]"
   ]
  },
  {
   "cell_type": "code",
   "execution_count": null,
   "metadata": {
    "ExecuteTime": {
     "end_time": "2021-10-11T22:24:03.391488Z",
     "start_time": "2021-10-11T22:24:03.150432Z"
    }
   },
   "outputs": [],
   "source": [
    "plt.figure(\n",
    "    figsize=(10, 5),\n",
    "    facecolor='white',\n",
    "    dpi=150\n",
    ")\n",
    "\n",
    "for var in vars_list:\n",
    "    sns.distplot(\n",
    "        df[var],\n",
    "        label=var\n",
    "    )\n",
    "\n",
    "plt.title('hist and density\\ndemand, quantity, sales')\n",
    "plt.grid()\n",
    "plt.legend()\n",
    "plt.show()"
   ]
  },
  {
   "cell_type": "code",
   "execution_count": null,
   "metadata": {},
   "outputs": [],
   "source": []
  },
  {
   "cell_type": "code",
   "execution_count": null,
   "metadata": {},
   "outputs": [],
   "source": []
  },
  {
   "cell_type": "markdown",
   "metadata": {},
   "source": [
    "### alpha"
   ]
  },
  {
   "cell_type": "code",
   "execution_count": null,
   "metadata": {
    "ExecuteTime": {
     "end_time": "2021-10-11T22:24:03.420752Z",
     "start_time": "2021-10-11T22:24:03.393968Z"
    }
   },
   "outputs": [],
   "source": [
    "grid_x = np.linspace(-0.2, 0.2, 1000)\n",
    "m_inf_arr = np.array([-np.inf for x in grid_x])\n",
    "\n",
    "prob_y = alpha_density_func(grid_x)\n",
    "integral_y = np.array([alpha_cumulative_dist_func(x) for x in grid_x])"
   ]
  },
  {
   "cell_type": "code",
   "execution_count": null,
   "metadata": {
    "ExecuteTime": {
     "end_time": "2021-10-11T22:24:03.900384Z",
     "start_time": "2021-10-11T22:24:03.422240Z"
    },
    "scrolled": false
   },
   "outputs": [],
   "source": [
    "# plt.figure(figsize=(10, 5), facecolor='white')\n",
    "fig, ax1 = plt.subplots(\n",
    "    figsize=(10, 5),\n",
    "    facecolor='white',\n",
    "    dpi=150\n",
    ")\n",
    "ax2 = ax1.twinx()\n",
    "\n",
    "g1 = ax1.plot(\n",
    "    grid_x,\n",
    "    prob_y,\n",
    "    color='blue',\n",
    "    label='Probablity density function'\n",
    ")\n",
    "\n",
    "ax1.fill_between(\n",
    "    x=grid_x,\n",
    "    y1=prob_y,\n",
    "    y2=0,\n",
    "    color='orange',\n",
    "    alpha=0.5\n",
    ")\n",
    "\n",
    "ax1.hist(\n",
    "    df['alpha'],\n",
    "    bins=20,\n",
    "    density=True,\n",
    "    alpha=0.3\n",
    ")\n",
    "\n",
    "g2 = ax2.plot(\n",
    "    grid_x,\n",
    "    integral_y,\n",
    "    color='red',\n",
    "    label='Cumulative distribution function'\n",
    ")\n",
    "\n",
    "_title = r'$\\alpha$ - distribution'\n",
    "ax1.set_title(_title, fontsize=15)\n",
    "ax1.set_xlabel(r'$\\alpha = \\dfrac{D - \\hat{D}}{\\hat{D}}$', fontsize=15)\n",
    "\n",
    "ax1.set_xlim([-0.21, 0.21])\n",
    "ax1.set_ylim([-0.1, 7])\n",
    "\n",
    "g_list = g1 + g2\n",
    "plt.legend(\n",
    "    g_list,\n",
    "    [g.get_label() for g in g_list],\n",
    "    loc=0\n",
    ")\n",
    "plt.grid()\n",
    "plt.show()"
   ]
  },
  {
   "cell_type": "markdown",
   "metadata": {},
   "source": [
    "### x"
   ]
  },
  {
   "cell_type": "code",
   "execution_count": null,
   "metadata": {
    "ExecuteTime": {
     "end_time": "2021-10-11T22:24:04.028847Z",
     "start_time": "2021-10-11T22:24:03.901872Z"
    },
    "scrolled": true
   },
   "outputs": [],
   "source": [
    "var = 'x'\n",
    "plt.figure(figsize=(6, 5), facecolor='white')\n",
    "sns.distplot(\n",
    "    df[var],\n",
    "    label=var\n",
    ")\n",
    "plt.title(var)\n",
    "plt.grid()\n",
    "plt.show()"
   ]
  },
  {
   "cell_type": "code",
   "execution_count": null,
   "metadata": {},
   "outputs": [],
   "source": []
  },
  {
   "cell_type": "markdown",
   "metadata": {},
   "source": [
    "## expected gross profit\n",
    "\n",
    "- xを様々に変化させた時の粗利期待値を可視化し, 最適解best_xが正しいことを確認する."
   ]
  },
  {
   "cell_type": "code",
   "execution_count": null,
   "metadata": {
    "ExecuteTime": {
     "end_time": "2021-10-11T22:24:04.035295Z",
     "start_time": "2021-10-11T22:24:04.030831Z"
    }
   },
   "outputs": [],
   "source": [
    "# 平均を予測値とする\n",
    "pred_demand = df['pred_demand'].mean()\n",
    "pred_demand"
   ]
  },
  {
   "cell_type": "code",
   "execution_count": null,
   "metadata": {
    "ExecuteTime": {
     "end_time": "2021-10-11T22:24:04.115647Z",
     "start_time": "2021-10-11T22:24:04.037280Z"
    }
   },
   "outputs": [],
   "source": [
    "# 様々なxの値\n",
    "x_arr = np.arange(-0.5, 0.51, 1e-3)\n",
    "x_arr[:5], x_arr[-5:]"
   ]
  },
  {
   "cell_type": "code",
   "execution_count": null,
   "metadata": {
    "ExecuteTime": {
     "end_time": "2021-10-11T22:24:12.729175Z",
     "start_time": "2021-10-11T22:24:04.118623Z"
    }
   },
   "outputs": [],
   "source": [
    "# 粗利期待値を計算\n",
    "egp_arr = np.array([\n",
    "    nvm.calc_expected_gross_profit(\n",
    "        x=x,\n",
    "        alpha_density_func=alpha_density_func,\n",
    "        pred_demand=pred_demand,\n",
    "        price=price,\n",
    "        cost=cost\n",
    "    ) for x in x_arr])\n",
    "egp_arr[:3]"
   ]
  },
  {
   "cell_type": "code",
   "execution_count": null,
   "metadata": {
    "ExecuteTime": {
     "end_time": "2021-10-11T22:24:12.737607Z",
     "start_time": "2021-10-11T22:24:12.730663Z"
    }
   },
   "outputs": [],
   "source": [
    "x_egp_arr = np.vstack([x_arr, egp_arr]).T\n",
    "x_egp_df = pd.DataFrame(x_egp_arr, columns=['x', 'expected_gross_profit'])\n",
    "x_egp_df.head()"
   ]
  },
  {
   "cell_type": "code",
   "execution_count": null,
   "metadata": {
    "ExecuteTime": {
     "end_time": "2021-10-11T22:24:12.750999Z",
     "start_time": "2021-10-11T22:24:12.738599Z"
    }
   },
   "outputs": [],
   "source": [
    "x_arr.shape, egp_arr.shape, x_egp_arr.shape"
   ]
  },
  {
   "cell_type": "code",
   "execution_count": null,
   "metadata": {
    "ExecuteTime": {
     "end_time": "2021-10-11T22:24:12.777783Z",
     "start_time": "2021-10-11T22:24:12.752487Z"
    }
   },
   "outputs": [],
   "source": [
    "# 粗利期待値が最大となるxの値の前後\n",
    "ii = x_egp_df['expected_gross_profit'].idxmax(axis=0)\n",
    "\n",
    "tmp_best_x = x_egp_df.iloc[ii]['x']\n",
    "tmp_best_egp = x_egp_df.iloc[ii]['expected_gross_profit']\n",
    "print('best_x:', tmp_best_x)\n",
    "print('best_egp:', tmp_best_egp)\n",
    "\n",
    "x_egp_df.iloc[ii-2:ii+3]"
   ]
  },
  {
   "cell_type": "code",
   "execution_count": null,
   "metadata": {
    "ExecuteTime": {
     "end_time": "2021-10-11T22:24:13.188472Z",
     "start_time": "2021-10-11T22:24:12.779768Z"
    }
   },
   "outputs": [],
   "source": [
    "# xを様々に変化させた時の粗利期待値を可視化し, 最適解best_xが正しいことを確認する.\n",
    "plt.figure(\n",
    "    figsize=(12, 8),\n",
    "    facecolor='white',\n",
    "    dpi=150\n",
    ")\n",
    "\n",
    "# x and egp\n",
    "plt.plot(\n",
    "    x_arr,\n",
    "    egp_arr,\n",
    "    color='blue'\n",
    ")\n",
    "\n",
    "# best_x\n",
    "plt.vlines(\n",
    "    tmp_best_x,\n",
    "    -10000, 10000,\n",
    "    color='red',\n",
    "    ls='--',\n",
    "    label='best_x'\n",
    ")\n",
    "\n",
    "# best_egp\n",
    "plt.hlines(\n",
    "    tmp_best_egp,\n",
    "    -10, 10,\n",
    "    color='red',\n",
    "    label='best_expected_gross_profit'\n",
    ")\n",
    "\n",
    "_title = 'expected gross profit\\n'\n",
    "_title += 'pred_demand: {}'.format(pred_demand)\n",
    "\n",
    "plt.title(_title, fontsize=15)\n",
    "plt.xlabel('x', fontsize=15)\n",
    "plt.ylabel('expected gross profit', fontsize=15)\n",
    "\n",
    "plt.xticks(fontsize=10)\n",
    "plt.yticks(fontsize=10)\n",
    "\n",
    "plt.xlim([-0.55, 0.55])\n",
    "plt.ylim([0, egp_arr.max() + 1000])\n",
    "\n",
    "plt.grid()\n",
    "plt.legend()\n",
    "plt.show()"
   ]
  },
  {
   "cell_type": "code",
   "execution_count": null,
   "metadata": {},
   "outputs": [],
   "source": []
  },
  {
   "cell_type": "markdown",
   "metadata": {},
   "source": [
    "# Check"
   ]
  },
  {
   "cell_type": "markdown",
   "metadata": {},
   "source": [
    "## get elapsed time"
   ]
  },
  {
   "cell_type": "code",
   "execution_count": null,
   "metadata": {
    "ExecuteTime": {
     "end_time": "2021-10-11T22:24:13.205335Z",
     "start_time": "2021-10-11T22:24:13.191447Z"
    }
   },
   "outputs": [],
   "source": [
    "utils.get_elapsed_time(start_time)"
   ]
  },
  {
   "cell_type": "code",
   "execution_count": null,
   "metadata": {},
   "outputs": [],
   "source": []
  }
 ],
 "metadata": {
  "kernelspec": {
   "display_name": "Python 3",
   "language": "python",
   "name": "python3"
  },
  "language_info": {
   "codemirror_mode": {
    "name": "ipython",
    "version": 3
   },
   "file_extension": ".py",
   "mimetype": "text/x-python",
   "name": "python",
   "nbconvert_exporter": "python",
   "pygments_lexer": "ipython3",
   "version": "3.8.8"
  },
  "toc": {
   "base_numbering": 1,
   "nav_menu": {},
   "number_sections": true,
   "sideBar": true,
   "skip_h1_title": false,
   "title_cell": "Table of Contents",
   "title_sidebar": "Contents",
   "toc_cell": false,
   "toc_position": {
    "height": "542.4px",
    "left": "50px",
    "top": "110.8px",
    "width": "261.188px"
   },
   "toc_section_display": true,
   "toc_window_display": true
  }
 },
 "nbformat": 4,
 "nbformat_minor": 4
}
